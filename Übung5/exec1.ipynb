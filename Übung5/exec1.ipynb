{
 "cells": [
  {
   "cell_type": "code",
   "execution_count": 1,
   "metadata": {
    "collapsed": true
   },
   "outputs": [],
   "source": [
    "import numpy as np\n",
    "import matplotlib.pyplot as plt\n",
    "import matplotlib as mpl\n",
    "import pandas as pd\n",
    "from pathlib import Path\n",
    "import nltk\n",
    "import math"
   ]
  },
  {
   "cell_type": "code",
   "execution_count": 2,
   "outputs": [
    {
     "data": {
      "text/plain": "3"
     },
     "execution_count": 2,
     "metadata": {},
     "output_type": "execute_result"
    }
   ],
   "source": [
    "doc_dict = {}\n",
    "counter = 0\n",
    "\n",
    "for f in Path('/Users/robert/Documents/Uni/DataScience/Übung5').glob('*.txt'):\n",
    "    doc_dict.update({f.name:f.read_text('utf-8')})\n",
    "    counter+=1\n",
    "counter"
   ],
   "metadata": {
    "collapsed": false
   }
  },
  {
   "cell_type": "code",
   "execution_count": 3,
   "outputs": [
    {
     "data": {
      "text/plain": "{'erlkonig.txt': ['Wer',\n  'reitet',\n  'so',\n  'spät',\n  'durch',\n  'Nacht',\n  'und',\n  'Wind',\n  '?',\n  'Es',\n  'ist',\n  'der',\n  'Vater',\n  'mit',\n  'seinem',\n  'Kind',\n  ';',\n  'Er',\n  'hat',\n  'den',\n  'Knaben',\n  'wohl',\n  'in',\n  'dem',\n  'Arm',\n  ',',\n  'Er',\n  'faßt',\n  'ihn',\n  'sicher',\n  ',',\n  'er',\n  'hält',\n  'ihn',\n  'warm',\n  '.',\n  'Mein',\n  'Sohn',\n  ',',\n  'was',\n  'birgst',\n  'du',\n  'so',\n  'bang',\n  'dein',\n  'Gesicht',\n  '?',\n  '-',\n  'Siehst',\n  'Vater',\n  ',',\n  'du',\n  'den',\n  'Erlkönig',\n  'nicht',\n  '?',\n  'Den',\n  'Erlenkönig',\n  'mit',\n  'Kron',\n  'und',\n  'Schweif',\n  '?',\n  '-',\n  'Mein',\n  'Sohn',\n  ',',\n  'es',\n  'ist',\n  'ein',\n  'Nebelstreif',\n  '.',\n  '-',\n  \"''\",\n  'Du',\n  'liebes',\n  'Kind',\n  ',',\n  'komm',\n  ',',\n  'geh',\n  'mit',\n  'mir',\n  '!',\n  'Gar',\n  'schöne',\n  'Spiele',\n  'spiel',\n  'ich',\n  'mit',\n  'dir',\n  ';',\n  'Manch',\n  'bunte',\n  'Blumen',\n  'sind',\n  'an',\n  'dem',\n  'Strand',\n  ',',\n  'Meine',\n  'Mutter',\n  'hat',\n  'manch',\n  'gülden',\n  'Gewand',\n  '.',\n  \"''\",\n  'Mein',\n  'Vater',\n  ',',\n  'mein',\n  'Vater',\n  ',',\n  'und',\n  'hörest',\n  'du',\n  'nicht',\n  ',',\n  'Was',\n  'Erlenkönig',\n  'mir',\n  'leise',\n  'verspricht',\n  '?',\n  '-',\n  'Sei',\n  'ruhig',\n  ',',\n  'bleibe',\n  'ruhig',\n  ',',\n  'mein',\n  'Kind',\n  ';',\n  'In',\n  'dürren',\n  'Blättern',\n  'säuselt',\n  'der',\n  'Wind',\n  '.',\n  '-',\n  \"''\",\n  'Willst',\n  ',',\n  'feiner',\n  'Knabe',\n  ',',\n  'du',\n  'mit',\n  'mir',\n  'gehn',\n  '?',\n  'Meine',\n  'Töchter',\n  'sollen',\n  'dich',\n  'warten',\n  'schön',\n  ';',\n  'Meine',\n  'Töchter',\n  'führen',\n  'den',\n  'nächtlichen',\n  'Reihn',\n  'Und',\n  'wiegen',\n  'und',\n  'tanzen',\n  'und',\n  'singen',\n  'dich',\n  'ein',\n  '.',\n  \"''\",\n  'Mein',\n  'Vater',\n  ',',\n  'mein',\n  'Vater',\n  ',',\n  'und',\n  'siehst',\n  'du',\n  'nicht',\n  'dort',\n  'Erlkönigs',\n  'Töchter',\n  'am',\n  'düstern',\n  'Ort',\n  '?',\n  '-',\n  'Mein',\n  'Sohn',\n  ',',\n  'mein',\n  'Sohn',\n  ',',\n  'ich',\n  'seh',\n  'es',\n  'genau',\n  ':',\n  'Es',\n  'scheinen',\n  'die',\n  'alten',\n  'Weiden',\n  'so',\n  'grau',\n  '.',\n  '-',\n  \"''\",\n  'Ich',\n  'liebe',\n  'dich',\n  ',',\n  'mich',\n  'reizt',\n  'deine',\n  'schöne',\n  'Gestalt',\n  ';',\n  'Und',\n  'bist',\n  'du',\n  'nicht',\n  'willig',\n  ',',\n  'so',\n  'brauch',\n  'ich',\n  'Gewalt',\n  '.',\n  \"''\",\n  'Mein',\n  'Vater',\n  ',',\n  'mein',\n  'Vater',\n  ',',\n  'jetzt',\n  'faßt',\n  'er',\n  'mich',\n  'an',\n  '!',\n  'Erlkönig',\n  'hat',\n  'mir',\n  'ein',\n  'Leids',\n  'getan',\n  '!',\n  '-',\n  'Dem',\n  'Vater',\n  'grauset',\n  \"'s\",\n  ',',\n  'er',\n  'reitet',\n  'geschwind',\n  ',',\n  'Er',\n  'hält',\n  'in',\n  'den',\n  'Armen',\n  'das',\n  'ächzende',\n  'Kind',\n  ',',\n  'Erreicht',\n  'den',\n  'Hof',\n  'mit',\n  'Mühe',\n  'und',\n  'Not',\n  ';',\n  'In',\n  'seinen',\n  'Armen',\n  'das',\n  'Kind',\n  'war',\n  'tot',\n  '.'],\n 'kollegah-universalgenie1strophe.txt': ['Ey',\n  ',',\n  'yeah',\n  ',',\n  'ah',\n  '!',\n  'Schon',\n  'in',\n  'frühsten',\n  'Zeiten',\n  'nennen',\n  'Mystikkreise',\n  \"'nen\",\n  'Propheten',\n  'Einen',\n  'physisch',\n  'reiferen',\n  ',',\n  'lyrisch',\n  'schreibenden',\n  'Poeten',\n  'Einen',\n  'zur',\n  'übersteigerten',\n  'Hybris',\n  'neigenden',\n  'Proleten',\n  'Einen',\n  'nach',\n  'Einschlägen',\n  'von',\n  'glühend',\n  'gleißenden',\n  'Kometen',\n  'Übrig',\n  'bleibenden',\n  ',',\n  'in',\n  'der',\n  'noch',\n  'mythisch',\n  'scheinenden',\n  'Wenngleich',\n  'unausweichlichen',\n  'Endzeit',\n  'der',\n  'psychisch',\n  'leidenden',\n  'Menschheit',\n  'Einen',\n  'nach',\n  'jeglichem',\n  'Wissen',\n  'Forschenden',\n  'Und',\n  'wie',\n  'ein',\n  'Mechitaristen-Orden',\n  'epische',\n  'Schriften',\n  'hortenden',\n  'Gelehrten',\n  ',',\n  'der',\n  'zu',\n  'philosophischer',\n  'Dichtung',\n  'neigt',\n  'Von',\n  'verbotenen',\n  'Schriften',\n  'weiß',\n  'und',\n  'Aristoteles',\n  \"'\",\n  'Wissen',\n  'teilt',\n  'Ein',\n  'Intellektueller',\n  'von',\n  'lyrischer',\n  'Gewandtheit',\n  'Dessen',\n  'Werk',\n  'ganze',\n  'Sphären',\n  'über',\n  'den',\n  'üblichen',\n  'Verstand',\n  'reicht',\n  'Eine',\n  'Legende',\n  ',',\n  'um',\n  'die',\n  'sich',\n  'Sagen',\n  'wie',\n  'Efeu',\n  'ranken',\n  'Er',\n  'brachte',\n  'das',\n  'Licht',\n  'wie',\n  'der',\n  ',',\n  'den',\n  'sie',\n  'Prometheus',\n  'nannten',\n  'Ein',\n  'überragender',\n  'Geist',\n  ',',\n  'rar',\n  'wie',\n  'der',\n  'ägyptische',\n  'Sonnengott',\n  'Er',\n  'liest',\n  'die',\n  'Zukunft',\n  'aus',\n  'der',\n  'Inschrift',\n  'eines',\n  'Tomahawks',\n  'Der',\n  'postmoderne',\n  'Zarathustra',\n  'Er',\n  ',',\n  'der',\n  'auf',\n  'der',\n  'anderen',\n  'Seite',\n  'wie',\n  'Lazarus',\n  'war',\n  ',',\n  'durchbrach',\n  'das',\n  'Muster',\n  'In',\n  'Zeiten',\n  ',',\n  'in',\n  'denen',\n  'sich',\n  'die',\n  'Düsternis',\n  'der',\n  'Welt',\n  'verdichtet',\n  'Erscheint',\n  'einzig',\n  'seine',\n  'Belletristik',\n  'wie',\n  'ein',\n  'heller',\n  'Lichtblick',\n  'Denn',\n  'er',\n  'ist',\n  'der',\n  ',',\n  'der',\n  'durch',\n  'die',\n  'dunkelsten',\n  'Schatten',\n  'sieht',\n  'Mit',\n  'Leidenschaft',\n  'Geisteskraft',\n  'weckt',\n  ',',\n  'die',\n  'tief',\n  'unten',\n  'begraben',\n  'liegt',\n  'Er',\n  'ist',\n  'der',\n  ',',\n  'dem',\n  'man',\n  'hunderte',\n  'Namen',\n  'gibt',\n  'Nenn',\n  'ihn',\n  'einfach',\n  'Kollegah',\n  '–',\n  'das',\n  'letzte',\n  'Universalgenie',\n  \"''\",\n  'The',\n  'cocaine',\n  ',',\n  'the',\n  'crack',\n  \"''\",\n  \"''\",\n  'Blowin',\n  \"'\",\n  'the',\n  'haze',\n  ',',\n  'blowin',\n  \"'\",\n  'the',\n  'haze',\n  \"''\",\n  \"''\",\n  'Wor-wor-wor-word',\n  \"''\",\n  \"''\",\n  'A',\n  'lotta',\n  'women',\n  'hate',\n  'me',\n  ',',\n  'but',\n  'that',\n  \"'s\",\n  'only',\n  \"'cause\",\n  'they',\n  'used',\n  'to',\n  'love',\n  'me',\n  \"''\",\n  \"''\",\n  'The',\n  'cocaine',\n  ',',\n  'the',\n  'crack',\n  \"''\",\n  \"''\",\n  'Blowin',\n  \"'\",\n  'the',\n  'haze',\n  ',',\n  'blowin',\n  \"'\",\n  'the',\n  'haze',\n  \"''\",\n  \"''\",\n  'Get',\n  'high',\n  'of',\n  'the',\n  'trees',\n  'and',\n  'the',\n  'Hennessy',\n  \"'s\",\n  \"''\",\n  '(',\n  'ah',\n  ',',\n  'yeah',\n  ',',\n  'ah',\n  ')',\n  'Sapere',\n  'aude',\n  ',',\n  'sperrt',\n  'die',\n  'Kanäle',\n  'auf',\n  'Ein',\n  'großer',\n  'Geist',\n  'bricht',\n  'die',\n  'Barriere',\n  'auf',\n  'und',\n  'aus',\n  'der',\n  'Materie',\n  'aus',\n  'Ich',\n  'bin',\n  'ein',\n  'Meeresrausch',\n  ',',\n  'ein',\n  'tosender',\n  'Gedankenstrom',\n  'Ein',\n  'Tsunami',\n  ',',\n  'der',\n  'in',\n  'den',\n  'Tiefen',\n  'des',\n  'Ozeans',\n  'des',\n  'Verstandes',\n  'tobt',\n  'Wissen',\n  'ist',\n  'Macht',\n  ',',\n  'ein',\n  'scharfes',\n  'Schwert',\n  'hat',\n  'weit',\n  'weniger',\n  'ver-',\n  'nichtende',\n  'Kraft',\n  'als',\n  'manch',\n  'verblichenes',\n  'Blatt',\n  'Ich',\n  'bin',\n  'ein',\n  'Licht',\n  'in',\n  'der',\n  'Nacht',\n  ',',\n  'nach',\n  'Erleuchtung',\n  'strebend',\n  'In',\n  'bedeutungsschweren',\n  'Texten',\n  'der',\n  'Freudschen',\n  'Lehre',\n  'Der',\n  'Mensch',\n  'an',\n  'sich',\n  'ist',\n  'verschlüsselt',\n  'wie',\n  'die',\n  'Schriften',\n  'Kafkas',\n  'Die',\n  'ich',\n  'mit',\n  'der',\n  'Weisheit',\n  'Einsteins',\n  'erforsche',\n  'wie',\n  'Wissenschaftler',\n  'Was',\n  'ich',\n  'weiß',\n  ',',\n  'ist',\n  'selten',\n  'schon',\n  'bekannt',\n  'Weil',\n  'sich',\n  'mir',\n  'zukünftige',\n  'Welten',\n  \"offenbar'n\",\n  'wie',\n  'Michel',\n  'de',\n  'Nostradame',\n  'Mit',\n  'großer',\n  'Verstandeskraft',\n  'entdeck',\n  \"'\",\n  'ich',\n  'die',\n  'Botschaft',\n  'In',\n  'den',\n  'Symphonien',\n  'Mozarts',\n  'und',\n  'Johann',\n  'Sebastian',\n  'Bachs',\n  'Les',\n  \"'\",\n  'in',\n  'Bibliotheken',\n  'in',\n  'den',\n  'Ruinen',\n  'Pompejis',\n  'Und',\n  'folg',\n  \"'\",\n  'verschiedenen',\n  'Wegen',\n  'hin',\n  'zur',\n  'Wiege',\n  'des',\n  'Lebens',\n  'Lern',\n  \"'\",\n  'von',\n  'Nietzsche',\n  'und',\n  'Hegel',\n  'und',\n  'von',\n  'den',\n  'Versen',\n  'Laotses',\n  'Lausche',\n  'den',\n  'Lehren',\n  'des',\n  'Todes',\n  'unter',\n  'dem',\n  'Schwert',\n  'des',\n  'Damokles',\n  'Deute',\n  'die',\n  'schwärzesten',\n  'Omen',\n  'mit',\n  'unumkehrbarer',\n  'Logik',\n  'Gäbe',\n  'ein',\n  'Teil',\n  'meines',\n  'Augenlichts',\n  'für',\n  'Geistesschärfe',\n  'wie',\n  'Odin',\n  'Dekodier',\n  \"'\",\n  'logische',\n  'Algorithmen',\n  'in',\n  \"Da-Vinci-Malerei'n\",\n  'Und',\n  'brenne',\n  'der',\n  'Historie',\n  'meine',\n  'Initialen',\n  'ein',\n  'Bin',\n  'kein',\n  'Literat',\n  'allein',\n  ',',\n  'sondern',\n  'universalgelehrt',\n  'Und',\n  'schaff',\n  \"'\",\n  'ein',\n  'fundamentales',\n  'Werk',\n  ',',\n  'das',\n  'hunderte',\n  'Jahre',\n  'währt',\n  \"''\",\n  'The',\n  'cocaine',\n  ',',\n  'the',\n  'crack',\n  \"''\",\n  \"''\",\n  'Blowin',\n  \"'\",\n  'the',\n  'haze',\n  ',',\n  'blowin',\n  \"'\",\n  'the',\n  'haze',\n  \"''\",\n  \"''\",\n  'Wor-wor-wor-word',\n  \"''\",\n  \"''\",\n  'A',\n  'lotta',\n  'women',\n  'hate',\n  'me',\n  ',',\n  'but',\n  'that',\n  \"'s\",\n  'only',\n  \"'cause\",\n  'they',\n  'used',\n  'to',\n  'love',\n  'me',\n  \"''\",\n  \"''\",\n  'The',\n  'cocaine',\n  ',',\n  'the',\n  'crack',\n  \"''\",\n  \"''\",\n  'Blowin',\n  \"'\",\n  'the',\n  'haze',\n  ',',\n  'blowin',\n  \"'\",\n  'the',\n  'haze',\n  \"''\",\n  \"''\",\n  'Get',\n  'high',\n  'of',\n  'the',\n  'trees',\n  'and',\n  'the',\n  'Hennessy',\n  \"'s\",\n  \"''\",\n  '(',\n  'ah',\n  '!',\n  ')',\n  'Die',\n  'Menschheit',\n  'ist',\n  'auf',\n  'Wanderschaft',\n  'wie',\n  'Karawanen',\n  'Auf',\n  'verzweifelter',\n  'Suche',\n  'nach',\n  'Kanaan',\n  'wie',\n  'Abraham',\n  'Die',\n  'einen',\n  'beten',\n  'Allah',\n  'an',\n  ',',\n  'beten',\n  'Gott',\n  'oder',\n  'Jahwe',\n  'an',\n  'Und',\n  'viele',\n  ',',\n  'ohne',\n  'es',\n  'zu',\n  'wissen',\n  ',',\n  'beten',\n  'Satan',\n  'an',\n  'Denn',\n  'die',\n  'Welt',\n  ',',\n  'in',\n  'der',\n  'wir',\n  'leben',\n  ',',\n  'ist',\n  'die',\n  'Dose',\n  'von',\n  'Pandora',\n  'Wir',\n  'benehmen',\n  'uns',\n  'wie',\n  'Dionysos',\n  'in',\n  'Sodom',\n  'und',\n  'Gomorrha',\n  'Es',\n  'regiert',\n  'das',\n  'Goldene',\n  'Kalb',\n  ',',\n  'Schüler',\n  \"Archimedes'\",\n  'Lassen',\n  'neuerlich',\n  'den',\n  'Turmbau',\n  'zu',\n  'Babel',\n  'in',\n  'den',\n  'Wolken',\n  \"verhall'n\",\n  'Du',\n  'kannst',\n  'dein',\n  'Kruzifix',\n  'tragen',\n  'Und',\n  'dennoch',\n  'wandeln',\n  'auf',\n  'blutigen',\n  'Pfaden',\n  'in',\n  'Luzifers',\n  'Namen',\n  'Und',\n  'mutige',\n  'Taten',\n  'wie',\n  'den',\n  'Aufstand',\n  'der',\n  'Kelten',\n  'Unter',\n  'Boudiccas',\n  'Fahnen',\n  'blutig',\n  'zerschlagen',\n  'Seit',\n  'zu',\n  'vielen',\n  'Jahren',\n  'unterwarf',\n  'die',\n  'Welt',\n  'sich',\n  'Helden',\n  'Die',\n  'wie',\n  'der',\n  'Jupiter',\n  'strahlten',\n  ',',\n  'doch',\n  'bloß',\n  'Trugbilder',\n  'waren',\n  'Jesus',\n  'am',\n  'Kreuz',\n  ',',\n  'Prometheus',\n  'am',\n  'Felsen',\n  'Wie',\n  'Rosenzweige',\n  'brechen',\n  'unsre',\n  'prophezeiten',\n  'Helden',\n  'Erdbeben',\n  'sind',\n  'Herzschläge',\n  'todgeweihter',\n  'Welten',\n  'In',\n  'denen',\n  'bloß',\n  'Rechte',\n  'in',\n  'Not',\n  'vereinter',\n  'Obrigkeiten',\n  'gelten',\n  'Die',\n  'Geschichte',\n  'ist',\n  'ein',\n  'sich',\n  'wiederholender',\n  'Zyklus',\n  'Doch',\n  'im',\n  'Raster',\n  'verwoben',\n  'sind',\n  'Muster',\n  'eines',\n  'heroischen',\n  'Mythos',\n  'Wir',\n  'sind',\n  'am',\n  'Boden',\n  'wie',\n  'Pythons',\n  'und',\n  'die',\n  'Götter',\n  'dadrüber',\n  'Doch',\n  'ich',\n  'erhebe',\n  'mich',\n  'wie',\n  'Herakles',\n  'von',\n  'den',\n  'Köpfen',\n  'der',\n  'Hydra',\n  'Und',\n  'folge',\n  'meiner',\n  'Bestimmung',\n  ',',\n  'folge',\n  'meiner',\n  'Besinnung',\n  'Kollegah',\n  ',',\n  'neue',\n  'Zeiten',\n  'beginnen',\n  \"''\",\n  'The',\n  'cocaine',\n  ',',\n  'the',\n  'crack',\n  \"''\",\n  \"''\",\n  'Blowin',\n  \"'\",\n  'the',\n  'haze',\n  ',',\n  'blowin',\n  \"'\",\n  'the',\n  'haze',\n  \"''\",\n  \"''\",\n  'Wor-wor-wor-word',\n  \"''\",\n  \"''\",\n  'A',\n  'lotta',\n  'women',\n  'hate',\n  'me',\n  ',',\n  'but',\n  'that',\n  \"'s\",\n  'only',\n  \"'cause\",\n  'they',\n  'used',\n  'to',\n  'love',\n  'me',\n  \"''\",\n  \"''\",\n  'The',\n  'cocaine',\n  ',',\n  'the',\n  'crack',\n  \"''\",\n  \"''\",\n  'Blowin',\n  \"'\",\n  'the',\n  'haze',\n  ',',\n  'blowin',\n  \"'\",\n  'the',\n  'haze',\n  \"''\",\n  \"''\",\n  'Get',\n  'high',\n  'of',\n  'the',\n  'trees',\n  'and',\n  'the',\n  'Hennessy',\n  \"'s\",\n  \"''\"],\n 'erlkoniganalyse.txt': ['Die',\n  'Ballade',\n  '»',\n  'Der',\n  'Erlkönig',\n  '«',\n  'stammt',\n  'aus',\n  'der',\n  'Feder',\n  'von',\n  'Johann',\n  'Wolfgang',\n  'von',\n  'Goethe',\n  'und',\n  'wurde',\n  'im',\n  'Jahr',\n  '1782',\n  'als',\n  'Einlage',\n  'für',\n  'das',\n  'Singspiel',\n  '»',\n  'Die',\n  'Fischerin',\n  '«',\n  'verfasst',\n  '.',\n  'Für',\n  'die',\n  'Ballade',\n  ',',\n  'die',\n  'der',\n  'literarischen',\n  'Epoche',\n  'von',\n  'Sturm',\n  'und',\n  'Drang',\n  'zuzuordnen',\n  'ist',\n  ',',\n  'bediente',\n  'sich',\n  'Goethe',\n  'an',\n  'einer',\n  'dänischen',\n  'Volkssage',\n  ',',\n  'die',\n  'sich',\n  'um',\n  'den',\n  '»',\n  'Ellerkonge',\n  '«',\n  ',',\n  'zu',\n  'deutsch',\n  '»',\n  'Elfenkönig',\n  '«',\n  ',',\n  'dreht',\n  '.',\n  'In',\n  'der',\n  'Ballade',\n  '»',\n  'Der',\n  'Erlkönig',\n  '«',\n  'beschreibt',\n  'der',\n  'Dichterfürst',\n  'den',\n  'nächtlichen',\n  'Ritt',\n  'eines',\n  'Vaters',\n  'mit',\n  'seinem',\n  'kranken',\n  'Sohn',\n  '.',\n  'Während',\n  'des',\n  'Ritts',\n  'durch',\n  'den',\n  'Wald',\n  'beginnt',\n  'der',\n  'Sohn',\n  'in',\n  'den',\n  'Armen',\n  'seines',\n  'Vaters',\n  'zu',\n  'fantasieren',\n  ',',\n  'indem',\n  'er',\n  'die',\n  'Figur',\n  'des',\n  'Erlkönigs',\n  'wahrnimmt',\n  '.',\n  'Dieser',\n  'möchte',\n  'den',\n  'Sohn',\n  'mit',\n  'Versprechungen',\n  'in',\n  'sein',\n  'Reich',\n  'locken',\n  ',',\n  'woraufhin',\n  'der',\n  'Junge',\n  'Angst',\n  'bekommt',\n  '.',\n  'Der',\n  'Vater',\n  'möchte',\n  'seinen',\n  'Sohn',\n  'dadurch',\n  'beruhigen',\n  ',',\n  'dass',\n  'er',\n  'die',\n  'Wahrnehmungen',\n  'seines',\n  'Sohnes',\n  'als',\n  'harmlose',\n  'Naturphänomene',\n  'erklärt',\n  '.',\n  'Im',\n  'Verlauf',\n  'der',\n  'Ballade',\n  'steigert',\n  'sich',\n  'der',\n  'Zugriff',\n  'des',\n  'Erlkönigs',\n  'auf',\n  'den',\n  'Jungen',\n  'jedoch',\n  ',',\n  'bis',\n  'dieser',\n  'schlussendlich',\n  'tot',\n  'in',\n  'den',\n  'Armen',\n  'seines',\n  'Vaters',\n  'liegt',\n  '.',\n  'Rein',\n  'formal',\n  'betrachtet',\n  'besteht',\n  'die',\n  'Ballade',\n  'aus',\n  'acht',\n  'Strophen',\n  'mit',\n  'jeweils',\n  'vier',\n  'Versen',\n  '.',\n  'Diese',\n  'weisen',\n  'einen',\n  'durchgehenden',\n  'Paarreim',\n  'mit',\n  'dem',\n  'Reimschema',\n  '»',\n  'aabb',\n  '«',\n  'auf',\n  ',',\n  'was',\n  'den',\n  'dialogartigen',\n  'Charakter',\n  'der',\n  'Ballade',\n  'unterstreicht',\n  '.',\n  'Dieses',\n  'Schema',\n  'wird',\n  'insbesondere',\n  'in',\n  'den',\n  'Strophen',\n  '2',\n  ',',\n  '4',\n  'und',\n  '6',\n  'sichtbar',\n  '.',\n  'Auffallend',\n  'ist',\n  'allerdings',\n  ',',\n  'der',\n  'wechselnde',\n  'inhaltliche',\n  'Aufbau',\n  'dieser',\n  'Strophen',\n  '.',\n  'Während',\n  'die',\n  'einzeiligen',\n  'Aussagen',\n  'des',\n  'Vaters',\n  'in',\n  'V.',\n  '5',\n  'und',\n  'V.',\n  '8',\n  'die',\n  'zweizeilige',\n  'Aussage',\n  'des',\n  'Sohnes',\n  'in',\n  'V.',\n  '6/7',\n  'wie',\n  'eine',\n  'schützende',\n  'Hülle',\n  'umschließen',\n  ',',\n  'ändert',\n  'sich',\n  'dies',\n  'in',\n  'den',\n  'Strophen',\n  '4',\n  'und',\n  '6',\n  '.',\n  'Sowohl',\n  'der',\n  'Vater',\n  'als',\n  'auch',\n  'der',\n  'Sohn',\n  'wechseln',\n  'sich',\n  'nun',\n  'in',\n  'einem',\n  'jeweils',\n  'zweizeiligen',\n  'Dialog',\n  'ab',\n  '.',\n  'Der',\n  'Sohn',\n  'eröffnet',\n  'die',\n  'Strophe',\n  'dabei',\n  'jeweils',\n  'mit',\n  'der',\n  'Frage',\n  'danach',\n  ',',\n  'ob',\n  'der',\n  'Vater',\n  'den',\n  'Erlkönig',\n  'nicht',\n  'auch',\n  'wahrnimmt',\n  '(',\n  'V.',\n  '13/14',\n  ',',\n  'V.',\n  '21/22',\n  ')',\n  '.',\n  'Der',\n  'Vater',\n  'hingegen',\n  'erklärt',\n  'die',\n  'Wahrnehmungen',\n  'seines',\n  'Sohnes',\n  'rational',\n  'mit',\n  'Naturphänomenen',\n  '.',\n  'Dies',\n  'ist',\n  'typisch',\n  'für',\n  'Goethe',\n  ',',\n  'der',\n  'als',\n  'einer',\n  'der',\n  'ersten',\n  'Dichter',\n  'naturmagische',\n  'Balladen',\n  'verfasste',\n  ',',\n  'die',\n  'den',\n  'Konflikt',\n  'zwischen',\n  'dem',\n  'Volksglauben',\n  'und',\n  'dem',\n  'aufgeklärten',\n  'Menschen',\n  'behandeln',\n  '.',\n  'Im',\n  'Erlkönig',\n  'übernimmt',\n  'der',\n  'Sohn',\n  'die',\n  'Rolle',\n  'des',\n  'für',\n  'die',\n  'Magie',\n  'der',\n  'Natur',\n  'empfänglichen',\n  'einfachen',\n  'Menschen',\n  'und',\n  'der',\n  'Vater',\n  'die',\n  'Position',\n  'des',\n  'rational',\n  'denkenden',\n  'Menschen',\n  'der',\n  'Aufklärung',\n  '.',\n  'Was',\n  'auf',\n  'den',\n  'ersten',\n  'Blick',\n  'wie',\n  'ein',\n  'Fiebertraum',\n  'des',\n  'Sohnes',\n  'wirkt',\n  ',',\n  'der',\n  'den',\n  'Konflikt',\n  'zwischen',\n  'einem',\n  'alten',\n  'und',\n  'einem',\n  'neuen',\n  'Naturverständnis',\n  'widerspiegelt',\n  ',',\n  'hat',\n  'allerdings',\n  'noch',\n  'eine',\n  'deutlich',\n  'tiefere',\n  'Ebene',\n  '.',\n  'Dies',\n  'wird',\n  'sowohl',\n  'anhand',\n  'der',\n  'Wortwahl',\n  'als',\n  'auch',\n  'durch',\n  'die',\n  'verwendeten',\n  'Stilmittel',\n  'deutlich',\n  '.',\n  'Das',\n  'gilt',\n  'vor',\n  'allem',\n  'für',\n  'die',\n  'Schlüsselworte',\n  'Vater',\n  ',',\n  'Kind',\n  ',',\n  'Sohn',\n  ',',\n  'Mutter',\n  'und',\n  'Töchter',\n  ',',\n  'die',\n  'die',\n  'Mitglieder',\n  'einer',\n  'typischen',\n  'Familie',\n  'beschreiben',\n  '.',\n  'Da',\n  'diese',\n  'Schlüsselworte',\n  'meist',\n  'in',\n  'Verbindung',\n  'mit',\n  'dem',\n  'Possessivpronomen',\n  '»',\n  'mein',\n  '«',\n  'eingeleitet',\n  'werden',\n  '(',\n  'z',\n  '.',\n  'B',\n  '.',\n  'V.',\n  '13',\n  '»',\n  'Mein',\n  'Vater',\n  '«',\n  ',',\n  'V.',\n  '5',\n  '»',\n  'Mein',\n  'Sohn',\n  '«',\n  ',',\n  'V.',\n  '12',\n  '»',\n  'Meine',\n  'Mutter',\n  '«',\n  ')',\n  ',',\n  'deutet',\n  'sich',\n  'ein',\n  'familiärer',\n  'Kontext',\n  'an',\n  '.',\n  'Goethe',\n  'greift',\n  'zudem',\n  'zum',\n  'Stilmittel',\n  'der',\n  'Anapher1',\n  ',',\n  'um',\n  'die',\n  'Bedeutung',\n  'dieser',\n  'familiären',\n  'Akteure',\n  'zu',\n  'unterstreichen',\n  '(',\n  'V.',\n  '3/4',\n  '»',\n  'er',\n  '«',\n  ',',\n  'V.',\n  '18/19',\n  '»',\n  'Meine',\n  'Töchter',\n  '«',\n  ')',\n  '.',\n  'Insbesondere',\n  'in',\n  'V.18/19',\n  'kommt',\n  'die',\n  'rhetorische',\n  'Figur',\n  'der',\n  'Repetitio2',\n  'hinzu',\n  ',',\n  'welche',\n  'die',\n  'Bedeutung',\n  'durch',\n  'die',\n  'Wiederholung',\n  'nochmals',\n  'verstärkt',\n  '.',\n  'Gleich',\n  'von',\n  'Beginn',\n  'an',\n  'setzt',\n  'Goethe',\n  'zudem',\n  'das',\n  'Stilmittel',\n  'des',\n  'Kontrasts',\n  'ein',\n  '.',\n  'Das',\n  'wird',\n  'beispielsweise',\n  'anhand',\n  'der',\n  'Zeilen',\n  'drei',\n  'und',\n  'vier',\n  '(',\n  '»',\n  'Er',\n  'hat',\n  'den',\n  'Knaben',\n  'wohl',\n  'in',\n  'dem',\n  'Arm',\n  ',',\n  'er',\n  'fasst',\n  'ihn',\n  'sicher',\n  ',',\n  'er',\n  'hält',\n  'ihn',\n  'warm',\n  '«',\n  ')',\n  'deutlich',\n  ',',\n  'welche',\n  'die',\n  'schützenden',\n  'Eigenschaften',\n  'des',\n  'Vaters',\n  'den',\n  'Eigenschaften',\n  'einer',\n  'stürmischen',\n  'Nacht',\n  'gegenüberstellen',\n  '(',\n  'V.',\n  '1',\n  ')',\n  '.',\n  'Durch',\n  'diesen',\n  'Kontrast',\n  'lässt',\n  'sich',\n  'im',\n  'übertragenen',\n  'Sinne',\n  'eine',\n  'doppeldeutige',\n  'Verbindung',\n  'zum',\n  'Erlkönig',\n  'herstellen',\n  ',',\n  'der',\n  'den',\n  'Jungen',\n  'durch',\n  'seine',\n  'Aussagen',\n  'aus',\n  'dem',\n  'Schutz',\n  'seines',\n  'Vaters',\n  'beziehungsweise',\n  'der',\n  'Familie',\n  'locken',\n  'möchte',\n  '(',\n  'z',\n  '.',\n  'B',\n  '.',\n  'V.',\n  '9/10',\n  '»',\n  'Du',\n  'liebes',\n  'Kind',\n  ',',\n  'komm',\n  'geh',\n  'mit',\n  'mir',\n  '!',\n  'Gar',\n  'schöne',\n  'Spiele',\n  'spiel',\n  'ich',\n  'mit',\n  'dir',\n  '«',\n  ')',\n  '.',\n  'Diese',\n  'beiden',\n  'Zeilen',\n  'deuten',\n  'auch',\n  'bereits',\n  'auf',\n  'ein',\n  'sexuelles',\n  'Motiv',\n  'des',\n  'Erlkönigs',\n  'hin',\n  ',',\n  'das',\n  'er',\n  'gegenüber',\n  'dem',\n  'Jungen',\n  'haben',\n  'könnte',\n  '.',\n  'Auffallend',\n  'ist',\n  'auch',\n  'die',\n  'Intensitätssteigerung',\n  'in',\n  'den',\n  'Avancen',\n  'des',\n  'Erlkönigs',\n  '.',\n  'So',\n  'lockt',\n  'dieser',\n  'den',\n  'Sohn',\n  'in',\n  'V.',\n  '18/19',\n  'beispielsweise',\n  'mit',\n  'seinen',\n  'Töchtern',\n  ',',\n  'wobei',\n  'Goethe',\n  'diesen',\n  'verlockenden',\n  'Umstand',\n  'in',\n  'V.',\n  '20',\n  'durch',\n  'die',\n  'Repetitio',\n  '»',\n  'Und',\n  'wiegen',\n  'und',\n  'tanzen',\n  'und',\n  'singen',\n  'dich',\n  'ein',\n  '«',\n  'bekräftigt',\n  '.',\n  'Auch',\n  'Alliterationen3',\n  'wie',\n  '»',\n  'bunte',\n  'Blumen',\n  '«',\n  '(',\n  'V.',\n  '11',\n  ')',\n  'und',\n  '»',\n  'gülden',\n  'Gewand',\n  '«',\n  '(',\n  'V.',\n  '12',\n  ')',\n  'untermauern',\n  'die',\n  'Versprechungen',\n  'des',\n  'Erlkönigs',\n  ',',\n  'da',\n  'dem',\n  'jeweiligen',\n  'Objekt',\n  'direkt',\n  'eine',\n  'positive',\n  'Eigenschaft',\n  'zugeordnet',\n  'wird',\n  '.',\n  'Ihren',\n  'Höhepunkt',\n  'erreichen',\n  'die',\n  'Versuche',\n  'des',\n  'Erlkönigs',\n  'schließlich',\n  'in',\n  'V.',\n  '25/26',\n  '.',\n  'Die',\n  'Aussage',\n  '»',\n  'Ich',\n  'liebe',\n  'dich',\n  ',',\n  'mich',\n  'reizt',\n  'deine',\n  'schöne',\n  'Gestalt',\n  ';',\n  'Und',\n  'bist',\n  'du',\n  'nicht',\n  'willig',\n  ',',\n  'so',\n  'brauch',\n  'ich',\n  'Gewalt',\n  '«',\n  'scheint',\n  'eindeutig',\n  '.',\n  'Sie',\n  'deutet',\n  'darauf',\n  'hin',\n  ',',\n  'dass',\n  'der',\n  'Erlkönig',\n  'eine',\n  'pädophile',\n  'Neigung',\n  'hat',\n  'und',\n  'den',\n  'Jungen',\n  'missbrauchen',\n  'möchte',\n  '.',\n  'Unter',\n  'diesem',\n  'Aspekt',\n  'betrachtet',\n  'erscheint',\n  'auch',\n  'der',\n  'Dialog',\n  'zwischen',\n  'Vater',\n  'und',\n  'Sohn',\n  'in',\n  'einem',\n  'anderen',\n  'Licht',\n  '.',\n  'Während',\n  'der',\n  'Sohn',\n  'seinen',\n  'Vater',\n  'in',\n  'V.',\n  '6/7',\n  ',',\n  '13/14',\n  'und',\n  '21/22',\n  'direkt',\n  'auf',\n  'das',\n  'Handeln',\n  'des',\n  'Erlkönigs',\n  'anspricht',\n  ',',\n  'tut',\n  'der',\n  'Vater',\n  'dies',\n  'als',\n  'Fantasie',\n  'ab',\n  '.',\n  'Das',\n  'wiederum',\n  'ähnelt',\n  'einer',\n  'für',\n  'den',\n  'Kindesmissbrauch',\n  'innerhalb',\n  'einer',\n  'Familie',\n  'typischen',\n  'Situation',\n  '.',\n  'Oft',\n  'ist',\n  'es',\n  'nämlich',\n  'der',\n  'Fall',\n  ',',\n  'dass',\n  'die',\n  'Erzählungen',\n  'der',\n  'Kinder',\n  'zunächst',\n  'auch',\n  'als',\n  'Fantasie',\n  'abgetan',\n  'werden',\n  ',',\n  'bis',\n  'es',\n  'zu',\n  'spät',\n  'ist',\n  '.',\n  'In',\n  'der',\n  'Ballade',\n  'wird',\n  'diese',\n  'Tatsache',\n  'dadurch',\n  'widergespiegelt',\n  ',',\n  'dass',\n  'es',\n  'der',\n  'Vater',\n  'erst',\n  'mit',\n  'der',\n  'Angst',\n  'zutun',\n  'bekommt',\n  '(',\n  'V.',\n  '29',\n  ')',\n  ',',\n  'als',\n  'der',\n  'Sohn',\n  'den',\n  'Übergriff',\n  'des',\n  'Erlkönigs',\n  'schildert',\n  '(',\n  'V.',\n  '27/28',\n  '»',\n  'Mein',\n  'Vater',\n  ',',\n  'mein',\n  'Vater',\n  ',',\n  'jetzt',\n  'fasst',\n  'der',\n  'mich',\n  'an',\n  '!',\n  'Erlkönig',\n  'hat',\n  'mir',\n  'ein',\n  'Leids',\n  'getan',\n  '!',\n  '«',\n  ')',\n  '.',\n  'Die',\n  'Intensität',\n  'des',\n  'Hilfegesuchens',\n  'wird',\n  'abermals',\n  'durch',\n  'eine',\n  'Repetitio',\n  'in',\n  'V.',\n  '27',\n  '(',\n  '»',\n  'mein',\n  'Vater',\n  '«',\n  ')',\n  'unterstrichen',\n  ...]}"
     },
     "execution_count": 3,
     "metadata": {},
     "output_type": "execute_result"
    }
   ],
   "source": [
    "for f_name in doc_dict:\n",
    "    doc_dict[f_name] = nltk.word_tokenize(doc_dict[f_name], language='german')\n",
    "doc_dict"
   ],
   "metadata": {
    "collapsed": false
   }
  },
  {
   "cell_type": "markdown",
   "source": [
    "## Calculate Word Frequencies per Document"
   ],
   "metadata": {
    "collapsed": false
   }
  },
  {
   "cell_type": "code",
   "execution_count": 4,
   "outputs": [],
   "source": [
    "bags_of_words = {}\n",
    "compl_bag_of_words = set()\n",
    "\n",
    "for f_name in doc_dict:\n",
    "    bags_of_words.update({f_name: {}})\n",
    "    for word in doc_dict[f_name]:\n",
    "        if word.lower() in bags_of_words[f_name]:\n",
    "            bags_of_words[f_name][word.lower()] = bags_of_words[f_name][word.lower()] + 1\n",
    "        else:\n",
    "            bags_of_words[f_name].update({word.lower(): 1})\n",
    "        compl_bag_of_words.add(word)"
   ],
   "metadata": {
    "collapsed": false
   }
  },
  {
   "cell_type": "code",
   "execution_count": 5,
   "outputs": [
    {
     "data": {
      "text/plain": "{'!',\n \"'\",\n \"''\",\n \"'cause\",\n \"'nen\",\n \"'s\",\n '(',\n ')',\n ',',\n '-',\n '.',\n '1',\n '11',\n '12',\n '13',\n '13/14',\n '1782',\n '18/19',\n '2',\n '20',\n '21/22',\n '25/26',\n '27',\n '27/28',\n '29',\n '3/4',\n '30',\n '32',\n '4',\n '5',\n '6',\n '6/7',\n '8',\n '9/10',\n ':',\n ';',\n '?',\n 'A',\n 'Abraham',\n 'Akteure',\n 'Algorithmen',\n 'Allah',\n 'Alliterationen3',\n 'Anapher1',\n 'Angst',\n \"Archimedes'\",\n 'Aristoteles',\n 'Arm',\n 'Armen',\n 'Aspekt',\n 'Auch',\n 'Auf',\n 'Aufbau',\n 'Auffallend',\n 'Aufklärung',\n 'Aufstand',\n 'Augenlichts',\n 'Aussage',\n 'Aussagen',\n 'Avancen',\n 'B',\n 'Babel',\n 'Bachs',\n 'Ballade',\n 'Balladen',\n 'Barriere',\n 'Bedeutung',\n 'Bedeutungsebene',\n 'Beginn',\n 'Belletristik',\n 'Besinnung',\n 'Bestimmung',\n 'Bezug',\n 'Bibliotheken',\n 'Bin',\n 'Blatt',\n 'Blick',\n 'Blowin',\n 'Blumen',\n 'Blättern',\n 'Boden',\n 'Botschaft',\n 'Boudiccas',\n 'Charakter',\n 'Da',\n \"Da-Vinci-Malerei'n\",\n 'Damokles',\n 'Das',\n 'Dekodier',\n 'Dem',\n 'Den',\n 'Denken',\n 'Denn',\n 'Der',\n 'Dessen',\n 'Deute',\n 'Deutung',\n 'Dialog',\n 'Dichter',\n 'Dichterfürst',\n 'Dichtung',\n 'Die',\n 'Dies',\n 'Diese',\n 'Dieser',\n 'Dieses',\n 'Dionysos',\n 'Doch',\n 'Dose',\n 'Drang',\n 'Du',\n 'Durch',\n 'Düsternis',\n 'Ebene',\n 'Efeu',\n 'Eigenschaft',\n 'Eigenschaften',\n 'Ein',\n 'Eindruck',\n 'Eine',\n 'Einen',\n 'Einlage',\n 'Einsatz',\n 'Einschlägen',\n 'Einsteins',\n 'Elfenkönig',\n 'Ellerkonge',\n 'Endzeit',\n 'Epoche',\n 'Er',\n 'Erdbeben',\n 'Erlenkönig',\n 'Erleuchtung',\n 'Erlkönig',\n 'Erlkönigs',\n 'Erreicht',\n 'Erscheint',\n 'Erzählungen',\n 'Es',\n 'Ey',\n 'Fahnen',\n 'Fall',\n 'Familie',\n 'Fantasie',\n 'Faust',\n 'Feder',\n 'Felsen',\n 'Fiebertraum',\n 'Fieberwahn',\n 'Figur',\n 'Fischerin',\n 'Forschenden',\n 'Frage',\n 'Freudschen',\n 'Für',\n 'Gar',\n 'Gedankenstrom',\n 'Geist',\n 'Geisteskraft',\n 'Geistesschärfe',\n 'Gelehrten',\n 'Geschichte',\n 'Gesicht',\n 'Gestalt',\n 'Get',\n 'Gewalt',\n 'Gewand',\n 'Gewandtheit',\n 'Gleich',\n 'Goethe',\n 'Goldene',\n 'Gomorrha',\n 'Gott',\n 'Gäbe',\n 'Götter',\n 'Handeln',\n 'Hegel',\n 'Helden',\n 'Hennessy',\n 'Herakles',\n 'Herzschläge',\n 'Hilfegesuchens',\n 'Historie',\n 'Hof',\n 'Hybris',\n 'Hydra',\n 'Höhepunkt',\n 'Hülle',\n 'Ich',\n 'Ihren',\n 'Im',\n 'In',\n 'Initialen',\n 'Insbesondere',\n 'Inschrift',\n 'Intellektueller',\n 'Intensität',\n 'Intensitätssteigerung',\n 'Interessant',\n 'Interpretationsspielraum',\n 'Jahr',\n 'Jahre',\n 'Jahren',\n 'Jahwe',\n 'Jesus',\n 'Johann',\n 'Junge',\n 'Jungen',\n 'Jupiter',\n 'Kafkas',\n 'Kalb',\n 'Kanaan',\n 'Kanäle',\n 'Karawanen',\n 'Kelten',\n 'Kind',\n 'Kinder',\n 'Kindes',\n 'Kindesmissbrauch',\n 'Kindesmissbrauchs',\n 'Kindheit',\n 'Knabe',\n 'Knaben',\n 'Kollegah',\n 'Kometen',\n 'Konflikt',\n 'Kontext',\n 'Kontrast',\n 'Kontrasts',\n 'Kraft',\n 'Kreis',\n 'Kreuz',\n 'Kron',\n 'Kruzifix',\n 'Kunstgriff',\n 'Köpfen',\n 'Laotses',\n 'Lassen',\n 'Lausche',\n 'Lazarus',\n 'Lebens',\n 'Leerstellen',\n 'Legende',\n 'Lehre',\n 'Lehren',\n 'Leidenschaft',\n 'Leids',\n 'Lern',\n 'Les',\n 'Lesen',\n 'Leser',\n 'Licht',\n 'Lichtblick',\n 'Literat',\n 'Logik',\n 'Luzifers',\n 'Macht',\n 'Magie',\n 'Manch',\n 'Materie',\n 'Mechitaristen-Orden',\n 'Meeresrausch',\n 'Mein',\n 'Meine',\n 'Mensch',\n 'Menschen',\n 'Menschheit',\n 'Michel',\n 'Mit',\n 'Mitglieder',\n 'Motiv',\n 'Mozarts',\n 'Muster',\n 'Mutter',\n 'Mystikkreise',\n 'Mythos',\n 'Mühe',\n 'Nacht',\n 'Namen',\n 'Natur',\n 'Naturphänomene',\n 'Naturphänomenen',\n 'Naturverständnis',\n 'Nebelstreif',\n 'Neigung',\n 'Nenn',\n 'Nietzsche',\n 'Nostradame',\n 'Not',\n 'Objekt',\n 'Obrigkeiten',\n 'Odin',\n 'Oft',\n 'Omen',\n 'Ort',\n 'Ozeans',\n 'Paarreim',\n 'Pandora',\n 'Pfaden',\n 'Poeten',\n 'Pompejis',\n 'Position',\n 'Possessivpronomen',\n 'Proleten',\n 'Prometheus',\n 'Propheten',\n 'Präsens',\n 'Präteritum',\n 'Pythons',\n 'Raster',\n 'Rechte',\n 'Reich',\n 'Reihn',\n 'Reimschema',\n 'Rein',\n 'Repetitio',\n 'Repetitio2',\n 'Ritt',\n 'Ritts',\n 'Rolle',\n 'Rosenzweige',\n 'Ruinen',\n 'Sagen',\n 'Sapere',\n 'Satan',\n 'Schatten',\n 'Schema',\n 'Schilderung',\n 'Schlüsselworte',\n 'Schon',\n 'Schriften',\n 'Schutz',\n 'Schweif',\n 'Schwert',\n 'Schüler',\n 'Sebastian',\n 'Sei',\n 'Seit',\n 'Seite',\n 'Sie',\n 'Siehst',\n 'Singspiel',\n 'Sinne',\n 'Situation',\n 'So',\n 'Sodom',\n 'Sohn',\n 'Sohnes',\n 'Sonnengott',\n 'Sowohl',\n 'Sphären',\n 'Spiele',\n 'Stilmittel',\n 'Strand',\n 'Strich',\n 'Strophe',\n 'Strophen',\n 'Sturm',\n 'Suche',\n 'Symphonien',\n 'Taten',\n 'Tatsache',\n 'Teil',\n 'Tempuswechsel',\n 'Texten',\n 'The',\n 'Thema',\n 'Tiefen',\n 'Tod',\n 'Todes',\n 'Tomahawks',\n 'Trugbilder',\n 'Tsunami',\n 'Turmbau',\n 'Töchter',\n 'Töchtern',\n 'Umstand',\n 'Und',\n 'Universalgenie',\n 'Unter',\n 'V.',\n 'V.18/19',\n 'Vater',\n 'Vaters',\n 'Verbindung',\n 'Vergangenheit',\n 'Verlauf',\n 'Vermutung',\n 'Versen',\n 'Versprechungen',\n 'Verstand',\n 'Verstandes',\n 'Verstandeskraft',\n 'Versuche',\n 'Vielmehr',\n 'Volksglauben',\n 'Volkssage',\n 'Von',\n 'Wahrnehmungen',\n 'Wald',\n 'Wanderschaft',\n 'Was',\n 'Wegen',\n 'Weiden',\n 'Weil',\n 'Weisheit',\n 'Welt',\n 'Welten',\n 'Wenngleich',\n 'Wer',\n 'Werk',\n 'Werke',\n 'Wie',\n 'Wiederholung',\n 'Wiege',\n 'Willst',\n 'Wind',\n 'Wir',\n 'Wissen',\n 'Wissenschaftler',\n 'Wolfgang',\n 'Wolken',\n 'Wor-wor-wor-word',\n 'Wortwahl',\n 'Während',\n 'Zarathustra',\n 'Zauberlehrling',\n 'Zeilen',\n 'Zeiten',\n 'Zugriff',\n 'Zukunft',\n 'Zyklus',\n 'aabb',\n 'ab',\n 'abermals',\n 'abgetan',\n 'acht',\n 'ah',\n 'allein',\n 'allem',\n 'allerdings',\n 'als',\n 'alten',\n 'am',\n 'an',\n 'and',\n 'anderen',\n 'anhand',\n 'anspricht',\n 'anzuregen',\n 'auch',\n 'aude',\n 'auf',\n 'aufgeklärten',\n 'aus',\n 'bang',\n 'beabsichtigte',\n 'bedeutungsschweren',\n 'bediente',\n 'beginnen',\n 'beginnt',\n 'begraben',\n 'behandeln',\n 'beiden',\n 'beispielsweise',\n 'bekannt',\n 'bekommt',\n 'bekräftigt',\n 'benehmen',\n 'bereits',\n 'beruhigen',\n 'beschreiben',\n 'beschreibt',\n 'besteht',\n 'beten',\n 'betrachtet',\n 'bewussten',\n 'beziehungsweise',\n 'bin',\n 'birgst',\n 'bis',\n 'bist',\n 'bleibe',\n 'bleibenden',\n 'blowin',\n 'bloß',\n 'blutig',\n 'blutigen',\n 'brachte',\n 'brauch',\n 'brechen',\n 'brenne',\n 'bricht',\n 'bunte',\n 'but',\n 'cocaine',\n 'crack',\n 'da',\n 'dabei',\n 'dadrüber',\n 'dadurch',\n 'damit',\n 'danach',\n 'darauf',\n 'das',\n 'dass',\n 'de',\n 'dein',\n 'deine',\n 'dem',\n 'den',\n 'denen',\n 'denkenden',\n 'dennoch',\n 'der',\n 'des',\n 'deuten',\n 'deutet',\n 'deutlich',\n 'deutsch',\n 'dialogartigen',\n 'dich',\n 'die',\n 'dies',\n 'diese',\n 'diesem',\n 'diesen',\n 'dieser',\n 'dir',\n 'direkt',\n 'doch',\n 'doppeldeutige',\n 'dort',\n 'dreht',\n 'drei',\n 'du',\n 'dunkelsten',\n 'durch',\n 'durchbrach',\n 'durchgehenden',\n 'dänischen',\n 'dürren',\n 'düstern',\n 'ein',\n 'eindeutig',\n 'eine',\n 'einem',\n 'einen',\n 'einer',\n 'eines',\n 'einfach',\n 'einfachen',\n 'eingeleitet',\n 'einzeiligen',\n 'einzig',\n 'empfänglichen',\n 'entdeck',\n 'epische',\n 'er',\n 'erforsche',\n 'erhebe',\n 'erkennen',\n 'erkennt',\n 'erklärt',\n 'erreichen',\n 'erscheint',\n 'erst',\n 'ersten',\n 'eröffnet',\n 'es',\n 'familiären',\n 'familiärer',\n 'fantasieren',\n 'fasst',\n 'faßt',\n 'feiner',\n 'folg',\n 'folge',\n 'formal',\n 'frühsten',\n 'fundamentales',\n 'führen',\n 'für',\n 'ganze',\n 'gegenüber',\n 'gegenüberstellen',\n 'geh',\n 'gehn',\n 'gelten',\n 'genau',\n 'gesamte',\n 'geschwind',\n 'getan',\n 'gibt',\n 'gilt',\n 'gleißenden',\n 'glühend',\n 'grau',\n 'grauset',\n 'greift',\n 'großer',\n 'gülden',\n 'haben',\n 'harmlose',\n 'hat',\n 'hate',\n 'haze',\n 'heller',\n 'heroischen',\n 'herstellen',\n 'high',\n 'hin',\n 'hingegen',\n 'hinzu',\n 'hortenden',\n 'hunderte',\n 'hält',\n 'hörest',\n 'ich',\n 'ihn',\n 'im',\n 'in',\n 'indem',\n 'inhaltliche',\n 'innerhalb',\n 'ins',\n 'insbesondere',\n 'ist',\n 'jedoch',\n 'jeglichem',\n 'jetzt',\n 'jeweiligen',\n 'jeweils',\n 'kann',\n 'kannst',\n 'kein',\n 'komm',\n 'kommt',\n 'kranken',\n 'könnte',\n 'körperlich',\n 'lassen',\n 'leben',\n 'leidenden',\n 'leise',\n 'letzte',\n 'liebe',\n 'liebes',\n 'liegt',\n 'liest',\n 'literarischen',\n 'locken',\n 'lockt',\n 'logische',\n 'lotta',\n 'love',\n 'lyrisch',\n 'lyrischer',\n 'lässt',\n 'man',\n 'manch',\n 'me',\n 'mein',\n 'meine',\n 'meiner',\n 'meines',\n 'meist',\n 'mich',\n 'mir',\n 'missbrauchen',\n 'mit',\n 'mutige',\n 'mythisch',\n 'möchte',\n 'nach',\n 'nannten',\n 'naturmagische',\n 'neigenden',\n 'neigt',\n 'nennen',\n 'neue',\n 'neuen',\n 'neuerlich',\n 'nicht',\n 'nichtende',\n 'noch',\n 'nochmals',\n 'nun',\n 'nur',\n 'nächtlichen',\n 'nämlich',\n 'ob',\n 'oberflächlich',\n 'oder',\n 'of',\n \"offenbar'n\",\n 'ohne',\n 'only',\n 'philosophischer',\n 'physisch',\n 'positive',\n 'postmoderne',\n 'prophezeiten',\n 'psychisch',\n 'pädophile',\n 'ranken',\n 'rar',\n 'rational',\n 'regiert',\n 'reicht',\n 'reiferen',\n 'reitet',\n 'reizt',\n 'rhetorische',\n 'ruhig',\n 'schaff',\n 'scharfes',\n 'scheinen',\n 'scheinenden',\n 'scheint',\n 'schildert',\n 'schließlich',\n 'schließt',\n 'schlussendlich',\n 'schon',\n 'schreibenden',\n 'schwärzesten',\n 'schön',\n 'schöne',\n 'schützende',\n 'schützenden',\n 'seelischen',\n 'seh',\n 'sein',\n 'seine',\n 'seinem',\n 'seinen',\n 'seiner',\n 'seines',\n 'selten',\n 'setzt',\n 'sexuellen',\n 'sexuelles',\n 'sich',\n 'sicher',\n 'sichtbar',\n 'sie',\n 'siehst',\n 'sieht',\n 'sind',\n 'singen',\n 'so',\n 'sollen',\n 'sondern',\n 'sowohl',\n 'sperrt',\n 'spiel',\n 'spät',\n 'stammt',\n 'steigert',\n 'strahlten',\n 'strebend',\n 'stürmischen',\n 'säuselt',\n 'tanzen',\n 'teilt',\n 'that',\n 'the',\n 'they',\n 'tief',\n 'tiefere',\n 'tieferen',\n 'to',\n 'tobt',\n 'todgeweihter',\n 'tosender',\n 'tot',\n 'tragen',\n 'trees',\n 'tut',\n 'typisch',\n 'typischen',\n 'um',\n 'umschließen',\n 'unausweichlichen',\n 'und',\n 'universalgelehrt',\n 'uns',\n 'unsre',\n 'unten',\n 'unter',\n 'untermauern',\n 'unterstreichen',\n 'unterstreicht',\n 'unterstrichen',\n 'unterwarf',\n 'unumkehrbarer',\n 'used',\n 'ver-',\n 'verblichenes',\n 'verbotenen',\n 'verdichtet',\n 'vereinter',\n 'verfasst',\n 'verfasste',\n \"verhall'n\",\n 'verlockenden',\n 'verloren',\n 'verschiedenen',\n 'verschlüsselt',\n 'verspricht',\n 'verstärkt',\n 'verwendeten',\n 'verwoben',\n 'verzweifelter',\n 'viele',\n 'vielen',\n 'vielschichtigen',\n 'vier',\n 'von',\n 'vor',\n 'vornimmt',\n 'wahrnimmt',\n 'wandeln',\n 'war',\n 'waren',\n 'warm',\n 'warten',\n 'was',\n 'wechseln',\n 'wechselnde',\n 'wechselt',\n 'weckt',\n 'weisen',\n 'weit',\n 'weiß',\n 'welche',\n 'weniger',\n 'werden',\n 'widergespiegelt',\n 'widerspiegelt',\n 'wie',\n 'wiederholender',\n 'wiederum',\n 'wiegen',\n 'will',\n 'willig',\n 'wir',\n 'wird',\n 'wirkt',\n 'wissen',\n 'wobei',\n 'wohl',\n 'women',\n 'woraufhin',\n 'wurde',\n 'währt',\n 'yeah',\n 'z',\n 'zerschlagen',\n 'zu',\n 'zudem',\n 'zugeordnet',\n 'zugeschrieben',\n 'zukünftige',\n 'zum',\n 'zunächst',\n 'zur',\n 'zutun',\n 'zuzuordnen',\n 'zweizeilige',\n 'zweizeiligen',\n 'zwischen',\n '«',\n '»',\n 'Ächzen',\n 'Übergriff',\n 'Übergriffs',\n 'Übrig',\n 'ächzende',\n 'ägyptische',\n 'ähnelt',\n 'ändert',\n 'über',\n 'überlässt',\n 'übernimmt',\n 'überragender',\n 'übersteigerten',\n 'übertragenen',\n 'üblichen',\n '–'}"
     },
     "execution_count": 5,
     "metadata": {},
     "output_type": "execute_result"
    }
   ],
   "source": [
    "compl_bag_of_words"
   ],
   "metadata": {
    "collapsed": false
   }
  },
  {
   "cell_type": "markdown",
   "source": [
    "## Now the cosine similarity (greatest will be clustered together in the next step)"
   ],
   "metadata": {
    "collapsed": false
   }
  },
  {
   "cell_type": "code",
   "execution_count": 6,
   "outputs": [],
   "source": [
    "#length of vectors\n",
    "len_doc_vector = {}\n",
    "for f_name in bags_of_words:\n",
    "    length = 0\n",
    "    for word in bags_of_words[f_name]:\n",
    "        length += (bags_of_words[f_name][word])*(bags_of_words[f_name][word])\n",
    "    len_doc_vector.update({f_name: math.sqrt(length)})\n",
    "\n",
    "#dot product\n",
    "docs = list(bags_of_words.keys())\n",
    "dot_ps = {(docs[0], docs[1]): 0, (docs[0],docs[2]):0, (docs[1],docs[2]): 0}\n",
    "\n",
    "sims = {(0,1): {},(0,2): {},(1,2): {}}\n",
    "\n",
    "for word in compl_bag_of_words:\n",
    "    if word in bags_of_words[docs[0]] and word in bags_of_words[docs[1]]:\n",
    "        dot_ps[(docs[0],docs[1])] += bags_of_words[docs[0]][word]*bags_of_words[docs[1]][word]\n",
    "\n",
    "    if word in bags_of_words[docs[0]] and word in bags_of_words[docs[2]]:\n",
    "        dot_ps[(docs[0],docs[2])] += bags_of_words[docs[0]][word]*bags_of_words[docs[2]][word]\n",
    "\n",
    "    if word in bags_of_words[docs[1]] and word in bags_of_words[docs[2]]:\n",
    "        dot_ps[(docs[1],docs[2])] += bags_of_words[docs[1]][word]*bags_of_words[docs[2]][word]\n",
    "\n",
    "cos_sims = dot_ps.copy()\n",
    "\n",
    "for combination in cos_sims:\n",
    "    cos_sims[combination]  = cos_sims[combination] / (len_doc_vector[combination[0]] * len_doc_vector[combination[1]])"
   ],
   "metadata": {
    "collapsed": false
   }
  },
  {
   "cell_type": "code",
   "execution_count": 7,
   "outputs": [
    {
     "data": {
      "text/plain": "{('erlkonig.txt', 'kollegah-universalgenie1strophe.txt'): 0.5256618065582226,\n ('erlkonig.txt', 'erlkoniganalyse.txt'): 0.5425230687931862,\n ('kollegah-universalgenie1strophe.txt',\n  'erlkoniganalyse.txt'): 0.5319882843361549}"
     },
     "execution_count": 7,
     "metadata": {},
     "output_type": "execute_result"
    }
   ],
   "source": [
    "cos_sims"
   ],
   "metadata": {
    "collapsed": false
   }
  },
  {
   "cell_type": "code",
   "execution_count": 8,
   "outputs": [
    {
     "data": {
      "text/plain": "{('erlkonig.txt', 'kollegah-universalgenie1strophe.txt'): 2076,\n ('erlkonig.txt', 'erlkoniganalyse.txt'): 2972,\n ('kollegah-universalgenie1strophe.txt', 'erlkoniganalyse.txt'): 6676}"
     },
     "execution_count": 8,
     "metadata": {},
     "output_type": "execute_result"
    }
   ],
   "source": [
    "dot_ps"
   ],
   "metadata": {
    "collapsed": false
   }
  },
  {
   "cell_type": "markdown",
   "source": [
    "## Euklidian distance"
   ],
   "metadata": {
    "collapsed": false
   }
  },
  {
   "cell_type": "code",
   "execution_count": 9,
   "outputs": [],
   "source": [
    "eucl_dist = {(docs[0], docs[1]): 0, (docs[0],docs[2]):0, (docs[1],docs[2]): 0}\n",
    "\n",
    "for combination in eucl_dist:\n",
    "    for word in compl_bag_of_words:\n",
    "        if word in bags_of_words[combination[0]] and word in bags_of_words[combination[1]]:\n",
    "            eucl_dist[combination] += math.pow(bags_of_words[combination[0]][word] - bags_of_words[combination[1]][word], 2)\n",
    "        elif word in bags_of_words[combination[0]]:\n",
    "            eucl_dist[combination] += math.pow(bags_of_words[combination[0]][word], 2)\n",
    "        elif word in bags_of_words[combination[1]]:\n",
    "            eucl_dist[combination] += math.pow(bags_of_words[combination[1]][word], 2)\n",
    "\n",
    "    eucl_dist[combination] = math.sqrt(eucl_dist[combination])"
   ],
   "metadata": {
    "collapsed": false
   }
  },
  {
   "cell_type": "code",
   "execution_count": 10,
   "outputs": [
    {
     "data": {
      "text/plain": "{('erlkonig.txt', 'kollegah-universalgenie1strophe.txt'): 78.58116822750856,\n ('erlkonig.txt', 'erlkoniganalyse.txt'): 106.5926826756884,\n ('kollegah-universalgenie1strophe.txt',\n  'erlkoniganalyse.txt'): 105.75916035975324}"
     },
     "execution_count": 10,
     "metadata": {},
     "output_type": "execute_result"
    }
   ],
   "source": [
    "eucl_dist"
   ],
   "metadata": {
    "collapsed": false
   }
  },
  {
   "cell_type": "markdown",
   "source": [
    "## Begründung:\n",
    "\n",
    "An der euklidischen Distanz ist erkennbar, dass,\n",
    "wenn nun aus den elementaren Clustern (den Datenpunkten) ein zusammengefügtes Cluster nach Complete Link erstellt wird,\n",
    "zunächst ein Cluster aus erlkonig und kollegahs Universalgenie entsteht, während dies bei Cosine Similarity und Single Link stattdessen\n",
    "universalgenie (Strophe 1)  und erlkoniganalyse wären."
   ],
   "metadata": {
    "collapsed": false
   }
  },
  {
   "cell_type": "code",
   "execution_count": null,
   "outputs": [],
   "source": [],
   "metadata": {
    "collapsed": false,
    "pycharm": {
     "is_executing": true
    }
   }
  },
  {
   "cell_type": "code",
   "execution_count": null,
   "outputs": [],
   "source": [],
   "metadata": {
    "collapsed": false
   }
  }
 ],
 "metadata": {
  "kernelspec": {
   "display_name": "Python 3",
   "language": "python",
   "name": "python3"
  },
  "language_info": {
   "codemirror_mode": {
    "name": "ipython",
    "version": 2
   },
   "file_extension": ".py",
   "mimetype": "text/x-python",
   "name": "python",
   "nbconvert_exporter": "python",
   "pygments_lexer": "ipython2",
   "version": "2.7.6"
  }
 },
 "nbformat": 4,
 "nbformat_minor": 0
}

{
 "cells": [
  {
   "cell_type": "code",
   "execution_count": 6,
   "outputs": [],
   "source": [
    "def mean_squared_err(exp, pred):\n",
    "    err = 0\n",
    "    if not len(exp) == len(pred):\n",
    "        return -1\n",
    "    n =0\n",
    "    for i in range(len(exp)):\n",
    "        err += (exp[i] - pred[i])*(exp[i] - pred[i])\n",
    "        n = i\n",
    "    err = (1/n) * err\n",
    "    return err"
   ],
   "metadata": {
    "collapsed": false
   }
  },
  {
   "cell_type": "code",
   "execution_count": 7,
   "outputs": [],
   "source": [
    "exp = [20, 100, 250]\n",
    "input = [12.7, 37.0, 80.9]"
   ],
   "metadata": {
    "collapsed": false
   }
  },
  {
   "cell_type": "code",
   "execution_count": 8,
   "outputs": [],
   "source": [
    "f_1 = lambda x: 2*x\n",
    "f_2 = lambda x: 3.2*x - 20\n",
    "\n",
    "res_1 = [f_1(x) for x in input]\n",
    "res_2 = [f_2(x) for x in input]"
   ],
   "metadata": {
    "collapsed": false
   }
  },
  {
   "cell_type": "code",
   "execution_count": 9,
   "outputs": [
    {
     "data": {
      "text/plain": "4242.199999999999"
     },
     "execution_count": 9,
     "metadata": {},
     "output_type": "execute_result"
    }
   ],
   "source": [
    "mean_squared_err(exp, res_1)"
   ],
   "metadata": {
    "collapsed": false
   }
  },
  {
   "cell_type": "code",
   "execution_count": 10,
   "outputs": [
    {
     "data": {
      "text/plain": "63.31199999999941"
     },
     "execution_count": 10,
     "metadata": {},
     "output_type": "execute_result"
    }
   ],
   "source": [
    "mean_squared_err(exp, res_2)"
   ],
   "metadata": {
    "collapsed": false
   }
  },
  {
   "cell_type": "markdown",
   "source": [
    "## Lösung:\n",
    "Es ist ersichtlich, dass der Mean Squared Error von f_1 um ein Vielfaches höher als der von f_2 ist, und somit hier das bessere Modell definitiv f_1 ist."
   ],
   "metadata": {
    "collapsed": false
   }
  },
  {
   "cell_type": "code",
   "execution_count": null,
   "outputs": [],
   "source": [],
   "metadata": {
    "collapsed": false
   }
  }
 ],
 "metadata": {
  "kernelspec": {
   "display_name": "Python 3",
   "language": "python",
   "name": "python3"
  },
  "language_info": {
   "codemirror_mode": {
    "name": "ipython",
    "version": 2
   },
   "file_extension": ".py",
   "mimetype": "text/x-python",
   "name": "python",
   "nbconvert_exporter": "python",
   "pygments_lexer": "ipython2",
   "version": "2.7.6"
  }
 },
 "nbformat": 4,
 "nbformat_minor": 0
}

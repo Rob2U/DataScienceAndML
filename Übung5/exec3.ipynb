{
 "cells": [
  {
   "cell_type": "code",
   "execution_count": 1,
   "outputs": [],
   "source": [
    "def mean_squared_err(exp, pred):\n",
    "    err = 0\n",
    "    if not len(exp) == len(pred):\n",
    "        return -1\n",
    "    n =0\n",
    "    for i in range(len(exp)):\n",
    "        err += (exp[i] - pred[i])*(exp[i] - pred[i])\n",
    "        n = i\n",
    "    err = (1/n) * err\n",
    "    return err"
   ],
   "metadata": {
    "collapsed": false
   }
  },
  {
   "cell_type": "code",
   "execution_count": 2,
   "outputs": [],
   "source": [
    "exp = [20, 100, 250]\n",
    "input = [12.7, 37.0, 80.9]"
   ],
   "metadata": {
    "collapsed": false
   }
  },
  {
   "cell_type": "code",
   "execution_count": 3,
   "outputs": [],
   "source": [
    "f_1 = lambda x: 2*x\n",
    "f_2 = lambda x: 3.2*x - 20\n",
    "\n",
    "res_1 = [f_1(x) for x in input]\n",
    "res_2 = [f_2(x) for x in input]"
   ],
   "metadata": {
    "collapsed": false
   }
  },
  {
   "cell_type": "code",
   "execution_count": 4,
   "outputs": [
    {
     "data": {
      "text/plain": "4242.199999999999"
     },
     "execution_count": 4,
     "metadata": {},
     "output_type": "execute_result"
    }
   ],
   "source": [
    "mean_squared_err(exp, res_1)"
   ],
   "metadata": {
    "collapsed": false
   }
  },
  {
   "cell_type": "code",
   "execution_count": 5,
   "outputs": [
    {
     "data": {
      "text/plain": "63.31199999999941"
     },
     "execution_count": 5,
     "metadata": {},
     "output_type": "execute_result"
    }
   ],
   "source": [
    "mean_squared_err(exp, res_2)"
   ],
   "metadata": {
    "collapsed": false
   }
  },
  {
   "cell_type": "markdown",
   "source": [
    "## Lösung:\n",
    "Es ist ersichtlich, dass der Mean Squared Error von f_1 um ein Vielfaches höher als der von f_2 ist, und somit hier das bessere Modell definitiv f_1 ist."
   ],
   "metadata": {
    "collapsed": false
   }
  }
 ],
 "metadata": {
  "kernelspec": {
   "display_name": "Python 3",
   "language": "python",
   "name": "python3"
  },
  "language_info": {
   "codemirror_mode": {
    "name": "ipython",
    "version": 2
   },
   "file_extension": ".py",
   "mimetype": "text/x-python",
   "name": "python",
   "nbconvert_exporter": "python",
   "pygments_lexer": "ipython2",
   "version": "2.7.6"
  }
 },
 "nbformat": 4,
 "nbformat_minor": 0
}

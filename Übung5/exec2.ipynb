{
 "cells": [
  {
   "cell_type": "code",
   "execution_count": 1,
   "metadata": {
    "collapsed": true
   },
   "outputs": [],
   "source": [
    "import numpy as np\n",
    "import matplotlib.pyplot as plt\n",
    "import matplotlib as mpl\n",
    "import pandas as pd\n",
    "from pathlib import Path\n",
    "import nltk\n",
    "import math\n",
    "import csv"
   ]
  },
  {
   "cell_type": "code",
   "execution_count": 2,
   "outputs": [],
   "source": [
    "glove_data_file = open('/Users/robert/Documents/Uni/DataScience/Übung5/glove.6B.300d.txts')\n",
    "\n",
    "words = pd.read_table(glove_data_file, sep=\" \", index_col=0, header=None, quoting=csv.QUOTE_NONE)"
   ],
   "metadata": {
    "collapsed": false
   }
  },
  {
   "cell_type": "markdown",
   "source": [
    "## Aufgabe a"
   ],
   "metadata": {
    "collapsed": false
   }
  },
  {
   "cell_type": "code",
   "execution_count": 16,
   "outputs": [],
   "source": [
    "rob = words.loc['robert']\n",
    "rob_len = np.sqrt(np.sum([ x*x for x in rob]))"
   ],
   "metadata": {
    "collapsed": false
   }
  },
  {
   "cell_type": "code",
   "execution_count": 17,
   "outputs": [
    {
     "data": {
      "text/plain": "0\nwilliam    0.564153\njames      0.544126\nj.         0.534375\nh.         0.533093\nd.         0.526490\ndtype: float64"
     },
     "execution_count": 17,
     "metadata": {},
     "output_type": "execute_result"
    }
   ],
   "source": [
    "words.apply(lambda x: rob.dot(x) / (rob_len * np.sqrt(np.sum([ y*y for y in x]))), axis=1).sort_values(ascending=False)[1:6]"
   ],
   "metadata": {
    "collapsed": false
   }
  },
  {
   "cell_type": "markdown",
   "source": [
    "## Aufgabe b"
   ],
   "metadata": {
    "collapsed": false
   }
  },
  {
   "cell_type": "code",
   "execution_count": 18,
   "outputs": [],
   "source": [
    "def sentence_to_vector(sentence): # It wasn't me my honor\n",
    "    sentence = nltk.word_tokenize(sentence, language='german')\n",
    "\n",
    "    df = words.loc['blank']\n",
    "    df.apply(lambda x: 0.0)\n",
    "\n",
    "    for word in sentence[0:]:\n",
    "        if word in words.index:\n",
    "            df = pd.merge(df, pd.DataFrame(words.loc[word]), left_index=True, right_index=True)\n",
    "    return df.apply(lambda x: x.mean(), axis=1)\n",
    "\n",
    "#sentence_to_vector('hello world')"
   ],
   "metadata": {
    "collapsed": false
   }
  },
  {
   "cell_type": "code",
   "execution_count": 19,
   "outputs": [],
   "source": [
    "sentences = ['This is the first sentence', 'Also trying it with this sentence' , 'And last but not least we have this sentence']"
   ],
   "metadata": {
    "collapsed": false
   }
  },
  {
   "cell_type": "code",
   "execution_count": 20,
   "outputs": [],
   "source": [
    "for i in range(len(sentences)):\n",
    "    sentences[i] = sentence_to_vector(sentences[i]).tolist()"
   ],
   "metadata": {
    "collapsed": false
   }
  },
  {
   "cell_type": "code",
   "execution_count": 21,
   "outputs": [],
   "source": [
    "#length of vectors\n",
    "len_sen_vector = []\n",
    "for i in range(len(sentences)):\n",
    "    length = 0\n",
    "    for j in range(len(sentences[i])):\n",
    "        length += sentences[i][j]*sentences[i][j]\n",
    "    len_sen_vector.append(math.sqrt(length))"
   ],
   "metadata": {
    "collapsed": false
   }
  },
  {
   "cell_type": "code",
   "execution_count": 22,
   "outputs": [],
   "source": [
    "#dot product\n",
    "dot_ps = {(0, 1): 0, (0 , 2): 0, (1 , 2): 0}\n",
    "\n",
    "for i in range(len(sentences[0])):\n",
    "    dot_ps[(0,1)] += sentences[0][i]*sentences[1][i]\n",
    "    dot_ps[(0,2)] += sentences[0][i]*sentences[2][i]\n",
    "    dot_ps[(1,2)] += sentences[1][i]*sentences[2][i]\n",
    "\n",
    "cos_sims = dot_ps.copy()\n",
    "\n",
    "for combination in cos_sims:\n",
    "    cos_sims[combination]  = cos_sims[combination] / (len_sen_vector[combination[0]] * len_sen_vector[combination[1]])"
   ],
   "metadata": {
    "collapsed": false
   }
  },
  {
   "cell_type": "code",
   "execution_count": 23,
   "outputs": [
    {
     "data": {
      "text/plain": "{(0, 1): 0.8948250920609992,\n (0, 2): 0.8251728656545199,\n (1, 2): 0.9020947296617208}"
     },
     "execution_count": 23,
     "metadata": {},
     "output_type": "execute_result"
    }
   ],
   "source": [
    "cos_sims"
   ],
   "metadata": {
    "collapsed": false
   }
  }
 ],
 "metadata": {
  "kernelspec": {
   "display_name": "Python 3",
   "language": "python",
   "name": "python3"
  },
  "language_info": {
   "codemirror_mode": {
    "name": "ipython",
    "version": 2
   },
   "file_extension": ".py",
   "mimetype": "text/x-python",
   "name": "python",
   "nbconvert_exporter": "python",
   "pygments_lexer": "ipython2",
   "version": "2.7.6"
  }
 },
 "nbformat": 4,
 "nbformat_minor": 0
}

{
 "cells": [
  {
   "cell_type": "code",
   "execution_count": 2,
   "metadata": {
    "collapsed": true
   },
   "outputs": [],
   "source": [
    "import numpy as np\n",
    "import matplotlib.pyplot as plt\n",
    "import matplotlib as mpl\n",
    "import pandas as pd\n",
    "from pathlib import Path\n",
    "import nltk\n",
    "import math\n",
    "import csv"
   ]
  },
  {
   "cell_type": "code",
   "execution_count": 3,
   "outputs": [],
   "source": [
    "glove_data_file = open('/Users/robert/Documents/Uni/DataScience/Übung5/glove.6B.300d.txts')\n",
    "\n",
    "words = pd.read_table(glove_data_file, sep=\" \", index_col=0, header=None, quoting=csv.QUOTE_NONE)"
   ],
   "metadata": {
    "collapsed": false
   }
  },
  {
   "cell_type": "code",
   "execution_count": 4,
   "outputs": [
    {
     "data": {
      "text/plain": "                 1         2         3         4         5         6    \\\n0                                                                        \nthe         0.046560  0.213180 -0.007436 -0.458540 -0.035639  0.236430   \n,          -0.255390 -0.257230  0.131690 -0.042688  0.218170 -0.022702   \n.          -0.125590  0.013630  0.103060 -0.101230  0.098128  0.136270   \nof         -0.076947 -0.021211  0.212710 -0.722320 -0.139880 -0.122340   \nto         -0.257560 -0.057132 -0.671900 -0.380820 -0.364210 -0.082155   \n...              ...       ...       ...       ...       ...       ...   \nchanty      0.392700 -0.022505  0.304580  0.187990  0.141180  0.724030   \nkronik      0.136790 -0.139090 -0.360890  0.079864  0.321490  0.263870   \nrolonda     0.075713 -0.040502  0.183450  0.512300 -0.228560  0.839110   \nzsombor     0.814510 -0.362210  0.311860  0.813810  0.188520 -0.313600   \nsandberger  0.429191 -0.296897  0.150110  0.245201 -0.003520 -0.057697   \n\n                 7         8         9         10   ...       291       292  \\\n0                                                   ...                       \nthe        -0.288360  0.215210 -0.134860 -1.641300  ... -0.013064 -0.296860   \n,          -0.178540  0.107560  0.058936 -1.385400  ...  0.075968 -0.014359   \n.          -0.107210  0.236970  0.328700 -1.678500  ...  0.060148 -0.156190   \nof         -0.175210  0.121370 -0.070866 -1.572100  ... -0.366730 -0.386030   \nto         -0.010955 -0.082047  0.460560 -1.847700  ... -0.012806 -0.597070   \n...              ...       ...       ...       ...  ...       ...       ...   \nchanty     -0.257810 -0.137290 -0.016521  0.595960  ... -0.182950  0.406630   \nkronik     -0.109900  0.044420  0.083869  0.791330  ...  0.036419 -0.036845   \nrolonda     0.178780 -0.713010  0.326900  0.695350  ... -0.388530  0.545850   \nzsombor     0.827840  0.296560 -0.085519  0.475970  ...  0.130880  0.106120   \nsandberger  0.140900 -0.222294  0.221153  0.767218  ...  0.128146  0.097552   \n\n                 293       294       295       296       297       298  \\\n0                                                                        \nthe        -0.079913  0.195000  0.031549  0.285060 -0.087461  0.009061   \n,          -0.073794  0.221760  0.146520  0.566860  0.053307 -0.232900   \n.          -0.119490  0.234450  0.081367  0.246180 -0.152420 -0.342240   \nof          0.302900  0.015747  0.340360  0.478410  0.068617  0.183510   \nto          0.317340 -0.252670  0.543840  0.063007 -0.049795 -0.160430   \n...              ...       ...       ...       ...       ...       ...   \nchanty     -0.343630 -0.270400 -0.593680  0.016447  0.140740  0.463940   \nkronik     -0.348150  0.064732 -0.000577 -0.133790  0.428960 -0.023320   \nrolonda    -0.035050 -0.184360 -0.197000 -0.350030  0.160650  0.218380   \nzsombor    -0.408110  0.313380 -0.430250  0.069798 -0.207690  0.075486   \nsandberger -0.130981 -0.142839 -0.175458 -0.168996 -0.022512  0.289750   \n\n                 299       300  \n0                               \nthe        -0.209890  0.053913  \n,          -0.122260  0.354990  \n.          -0.022394  0.136840  \nof         -0.291830 -0.046533  \nto          0.046744 -0.070621  \n...              ...       ...  \nchanty     -0.369570 -0.287180  \nkronik      0.410210 -0.393080  \nrolonda     0.309670  0.437610  \nzsombor     0.284080 -0.175590  \nsandberger  0.326180 -0.059053  \n\n[400000 rows x 300 columns]",
      "text/html": "<div>\n<style scoped>\n    .dataframe tbody tr th:only-of-type {\n        vertical-align: middle;\n    }\n\n    .dataframe tbody tr th {\n        vertical-align: top;\n    }\n\n    .dataframe thead th {\n        text-align: right;\n    }\n</style>\n<table border=\"1\" class=\"dataframe\">\n  <thead>\n    <tr style=\"text-align: right;\">\n      <th></th>\n      <th>1</th>\n      <th>2</th>\n      <th>3</th>\n      <th>4</th>\n      <th>5</th>\n      <th>6</th>\n      <th>7</th>\n      <th>8</th>\n      <th>9</th>\n      <th>10</th>\n      <th>...</th>\n      <th>291</th>\n      <th>292</th>\n      <th>293</th>\n      <th>294</th>\n      <th>295</th>\n      <th>296</th>\n      <th>297</th>\n      <th>298</th>\n      <th>299</th>\n      <th>300</th>\n    </tr>\n    <tr>\n      <th>0</th>\n      <th></th>\n      <th></th>\n      <th></th>\n      <th></th>\n      <th></th>\n      <th></th>\n      <th></th>\n      <th></th>\n      <th></th>\n      <th></th>\n      <th></th>\n      <th></th>\n      <th></th>\n      <th></th>\n      <th></th>\n      <th></th>\n      <th></th>\n      <th></th>\n      <th></th>\n      <th></th>\n      <th></th>\n    </tr>\n  </thead>\n  <tbody>\n    <tr>\n      <th>the</th>\n      <td>0.046560</td>\n      <td>0.213180</td>\n      <td>-0.007436</td>\n      <td>-0.458540</td>\n      <td>-0.035639</td>\n      <td>0.236430</td>\n      <td>-0.288360</td>\n      <td>0.215210</td>\n      <td>-0.134860</td>\n      <td>-1.641300</td>\n      <td>...</td>\n      <td>-0.013064</td>\n      <td>-0.296860</td>\n      <td>-0.079913</td>\n      <td>0.195000</td>\n      <td>0.031549</td>\n      <td>0.285060</td>\n      <td>-0.087461</td>\n      <td>0.009061</td>\n      <td>-0.209890</td>\n      <td>0.053913</td>\n    </tr>\n    <tr>\n      <th>,</th>\n      <td>-0.255390</td>\n      <td>-0.257230</td>\n      <td>0.131690</td>\n      <td>-0.042688</td>\n      <td>0.218170</td>\n      <td>-0.022702</td>\n      <td>-0.178540</td>\n      <td>0.107560</td>\n      <td>0.058936</td>\n      <td>-1.385400</td>\n      <td>...</td>\n      <td>0.075968</td>\n      <td>-0.014359</td>\n      <td>-0.073794</td>\n      <td>0.221760</td>\n      <td>0.146520</td>\n      <td>0.566860</td>\n      <td>0.053307</td>\n      <td>-0.232900</td>\n      <td>-0.122260</td>\n      <td>0.354990</td>\n    </tr>\n    <tr>\n      <th>.</th>\n      <td>-0.125590</td>\n      <td>0.013630</td>\n      <td>0.103060</td>\n      <td>-0.101230</td>\n      <td>0.098128</td>\n      <td>0.136270</td>\n      <td>-0.107210</td>\n      <td>0.236970</td>\n      <td>0.328700</td>\n      <td>-1.678500</td>\n      <td>...</td>\n      <td>0.060148</td>\n      <td>-0.156190</td>\n      <td>-0.119490</td>\n      <td>0.234450</td>\n      <td>0.081367</td>\n      <td>0.246180</td>\n      <td>-0.152420</td>\n      <td>-0.342240</td>\n      <td>-0.022394</td>\n      <td>0.136840</td>\n    </tr>\n    <tr>\n      <th>of</th>\n      <td>-0.076947</td>\n      <td>-0.021211</td>\n      <td>0.212710</td>\n      <td>-0.722320</td>\n      <td>-0.139880</td>\n      <td>-0.122340</td>\n      <td>-0.175210</td>\n      <td>0.121370</td>\n      <td>-0.070866</td>\n      <td>-1.572100</td>\n      <td>...</td>\n      <td>-0.366730</td>\n      <td>-0.386030</td>\n      <td>0.302900</td>\n      <td>0.015747</td>\n      <td>0.340360</td>\n      <td>0.478410</td>\n      <td>0.068617</td>\n      <td>0.183510</td>\n      <td>-0.291830</td>\n      <td>-0.046533</td>\n    </tr>\n    <tr>\n      <th>to</th>\n      <td>-0.257560</td>\n      <td>-0.057132</td>\n      <td>-0.671900</td>\n      <td>-0.380820</td>\n      <td>-0.364210</td>\n      <td>-0.082155</td>\n      <td>-0.010955</td>\n      <td>-0.082047</td>\n      <td>0.460560</td>\n      <td>-1.847700</td>\n      <td>...</td>\n      <td>-0.012806</td>\n      <td>-0.597070</td>\n      <td>0.317340</td>\n      <td>-0.252670</td>\n      <td>0.543840</td>\n      <td>0.063007</td>\n      <td>-0.049795</td>\n      <td>-0.160430</td>\n      <td>0.046744</td>\n      <td>-0.070621</td>\n    </tr>\n    <tr>\n      <th>...</th>\n      <td>...</td>\n      <td>...</td>\n      <td>...</td>\n      <td>...</td>\n      <td>...</td>\n      <td>...</td>\n      <td>...</td>\n      <td>...</td>\n      <td>...</td>\n      <td>...</td>\n      <td>...</td>\n      <td>...</td>\n      <td>...</td>\n      <td>...</td>\n      <td>...</td>\n      <td>...</td>\n      <td>...</td>\n      <td>...</td>\n      <td>...</td>\n      <td>...</td>\n      <td>...</td>\n    </tr>\n    <tr>\n      <th>chanty</th>\n      <td>0.392700</td>\n      <td>-0.022505</td>\n      <td>0.304580</td>\n      <td>0.187990</td>\n      <td>0.141180</td>\n      <td>0.724030</td>\n      <td>-0.257810</td>\n      <td>-0.137290</td>\n      <td>-0.016521</td>\n      <td>0.595960</td>\n      <td>...</td>\n      <td>-0.182950</td>\n      <td>0.406630</td>\n      <td>-0.343630</td>\n      <td>-0.270400</td>\n      <td>-0.593680</td>\n      <td>0.016447</td>\n      <td>0.140740</td>\n      <td>0.463940</td>\n      <td>-0.369570</td>\n      <td>-0.287180</td>\n    </tr>\n    <tr>\n      <th>kronik</th>\n      <td>0.136790</td>\n      <td>-0.139090</td>\n      <td>-0.360890</td>\n      <td>0.079864</td>\n      <td>0.321490</td>\n      <td>0.263870</td>\n      <td>-0.109900</td>\n      <td>0.044420</td>\n      <td>0.083869</td>\n      <td>0.791330</td>\n      <td>...</td>\n      <td>0.036419</td>\n      <td>-0.036845</td>\n      <td>-0.348150</td>\n      <td>0.064732</td>\n      <td>-0.000577</td>\n      <td>-0.133790</td>\n      <td>0.428960</td>\n      <td>-0.023320</td>\n      <td>0.410210</td>\n      <td>-0.393080</td>\n    </tr>\n    <tr>\n      <th>rolonda</th>\n      <td>0.075713</td>\n      <td>-0.040502</td>\n      <td>0.183450</td>\n      <td>0.512300</td>\n      <td>-0.228560</td>\n      <td>0.839110</td>\n      <td>0.178780</td>\n      <td>-0.713010</td>\n      <td>0.326900</td>\n      <td>0.695350</td>\n      <td>...</td>\n      <td>-0.388530</td>\n      <td>0.545850</td>\n      <td>-0.035050</td>\n      <td>-0.184360</td>\n      <td>-0.197000</td>\n      <td>-0.350030</td>\n      <td>0.160650</td>\n      <td>0.218380</td>\n      <td>0.309670</td>\n      <td>0.437610</td>\n    </tr>\n    <tr>\n      <th>zsombor</th>\n      <td>0.814510</td>\n      <td>-0.362210</td>\n      <td>0.311860</td>\n      <td>0.813810</td>\n      <td>0.188520</td>\n      <td>-0.313600</td>\n      <td>0.827840</td>\n      <td>0.296560</td>\n      <td>-0.085519</td>\n      <td>0.475970</td>\n      <td>...</td>\n      <td>0.130880</td>\n      <td>0.106120</td>\n      <td>-0.408110</td>\n      <td>0.313380</td>\n      <td>-0.430250</td>\n      <td>0.069798</td>\n      <td>-0.207690</td>\n      <td>0.075486</td>\n      <td>0.284080</td>\n      <td>-0.175590</td>\n    </tr>\n    <tr>\n      <th>sandberger</th>\n      <td>0.429191</td>\n      <td>-0.296897</td>\n      <td>0.150110</td>\n      <td>0.245201</td>\n      <td>-0.003520</td>\n      <td>-0.057697</td>\n      <td>0.140900</td>\n      <td>-0.222294</td>\n      <td>0.221153</td>\n      <td>0.767218</td>\n      <td>...</td>\n      <td>0.128146</td>\n      <td>0.097552</td>\n      <td>-0.130981</td>\n      <td>-0.142839</td>\n      <td>-0.175458</td>\n      <td>-0.168996</td>\n      <td>-0.022512</td>\n      <td>0.289750</td>\n      <td>0.326180</td>\n      <td>-0.059053</td>\n    </tr>\n  </tbody>\n</table>\n<p>400000 rows × 300 columns</p>\n</div>"
     },
     "execution_count": 4,
     "metadata": {},
     "output_type": "execute_result"
    }
   ],
   "source": [
    "words"
   ],
   "metadata": {
    "collapsed": false
   }
  },
  {
   "cell_type": "code",
   "execution_count": 5,
   "outputs": [
    {
     "data": {
      "text/plain": "1      0.482750\n2     -0.061325\n3      0.237100\n4     -0.351270\n5      0.412950\n         ...   \n296    0.086531\n297    0.024527\n298   -0.045741\n299   -0.386690\n300    0.159090\nName: robert, Length: 300, dtype: float64"
     },
     "execution_count": 5,
     "metadata": {},
     "output_type": "execute_result"
    }
   ],
   "source": [
    "rob = words.loc['robert']\n",
    "rob_len = np.sqrt(np.sum([ x*x for x in rob]))\n",
    "rob"
   ],
   "metadata": {
    "collapsed": false
   }
  },
  {
   "cell_type": "code",
   "execution_count": 6,
   "outputs": [
    {
     "data": {
      "text/plain": "0\nrobert       1.000000\nwilliam      0.564153\njames        0.544126\nj.           0.534375\nh.           0.533093\n               ...   \nthongrung   -0.406364\noppegård    -0.407498\nel1l        -0.412071\nmo94        -0.429745\nmangxamba   -0.457255\nLength: 400000, dtype: float64"
     },
     "execution_count": 6,
     "metadata": {},
     "output_type": "execute_result"
    }
   ],
   "source": [
    "words.apply(lambda x: rob.dot(x) / (rob_len * np.sqrt(np.sum([ y*y for y in x]))), axis=1).sort_values(ascending=False)"
   ],
   "metadata": {
    "collapsed": false
   }
  },
  {
   "cell_type": "code",
   "execution_count": 10,
   "outputs": [],
   "source": [
    "x def sentence_to_vector(sentence): # It wasn't me my honor\n",
    "    sentence = nltk.word_tokenize(sentence, language='german')\n",
    "\n",
    "    df = words.loc['blank']\n",
    "    df.apply(lambda x: 0.0)\n",
    "    for word in sentence[0:]:\n",
    "        if word in words.index:\n",
    "            df = pd.merge(df, pd.DataFrame(words.loc[word]), left_index=True, right_index=True)\n",
    "    return df.apply(lambda x: x.mean(), axis=1)"
   ],
   "metadata": {
    "collapsed": false
   }
  },
  {
   "cell_type": "code",
   "execution_count": 11,
   "outputs": [
    {
     "data": {
      "text/plain": "1     -0.045562\n2      0.154404\n3     -0.148984\n4     -0.270078\n5     -0.223600\n         ...   \n296   -0.177368\n297    0.259774\n298    0.080519\n299    0.042032\n300    0.181658\nLength: 300, dtype: float64"
     },
     "execution_count": 11,
     "metadata": {},
     "output_type": "execute_result"
    }
   ],
   "source": [
    "sentence_to_vector('hello you world')"
   ],
   "metadata": {
    "collapsed": false
   }
  },
  {
   "cell_type": "code",
   "execution_count": 17,
   "outputs": [],
   "source": [
    "#sentences = ['Ich bin ein Berliner.', 'Ich mag Berliner.',  'Ich mag keine Berliner.']\n",
    "sentences = ['This is the first sentence', 'Also trying it with this sentence' , 'And last but not least we have this sentence']"
   ],
   "metadata": {
    "collapsed": false
   }
  },
  {
   "cell_type": "code",
   "execution_count": 18,
   "outputs": [],
   "source": [
    "for i in range(len(sentences)):\n",
    "    sentences[i] = sentence_to_vector(sentences[i]).tolist()"
   ],
   "metadata": {
    "collapsed": false
   }
  },
  {
   "cell_type": "code",
   "execution_count": 19,
   "outputs": [],
   "source": [
    "#length of vectors\n",
    "len_sen_vector = []\n",
    "for i in range(len(sentences)):\n",
    "    length = 0\n",
    "    for j in range(len(sentences[i])):\n",
    "        length += sentences[i][j]*sentences[i][j]\n",
    "    len_sen_vector.append(math.sqrt(length))"
   ],
   "metadata": {
    "collapsed": false
   }
  },
  {
   "cell_type": "code",
   "execution_count": 20,
   "outputs": [],
   "source": [
    "#dot product\n",
    "dot_ps = {(0, 1): 0, (0 , 2): 0, (1 , 2): 0}\n",
    "\n",
    "for i in range(len(sentences[0])):\n",
    "    dot_ps[(0,1)] += sentences[0][i]*sentences[1][i]\n",
    "    dot_ps[(0,2)] += sentences[0][i]*sentences[2][i]\n",
    "    dot_ps[(1,2)] += sentences[1][i]*sentences[2][i]\n",
    "\n",
    "cos_sims = dot_ps.copy()\n",
    "\n",
    "for combination in cos_sims:\n",
    "    cos_sims[combination]  = cos_sims[combination] / (len_sen_vector[combination[0]] * len_sen_vector[combination[1]])"
   ],
   "metadata": {
    "collapsed": false
   }
  },
  {
   "cell_type": "code",
   "execution_count": 21,
   "outputs": [
    {
     "data": {
      "text/plain": "{(0, 1): 0.8948250920609992,\n (0, 2): 0.8251728656545199,\n (1, 2): 0.9020947296617208}"
     },
     "execution_count": 21,
     "metadata": {},
     "output_type": "execute_result"
    }
   ],
   "source": [
    "cos_sims"
   ],
   "metadata": {
    "collapsed": false
   }
  },
  {
   "cell_type": "code",
   "execution_count": null,
   "outputs": [],
   "source": [],
   "metadata": {
    "collapsed": false,
    "pycharm": {
     "is_executing": true
    }
   }
  },
  {
   "cell_type": "code",
   "execution_count": 73,
   "outputs": [],
   "source": [],
   "metadata": {
    "collapsed": false
   }
  }
 ],
 "metadata": {
  "kernelspec": {
   "display_name": "Python 3",
   "language": "python",
   "name": "python3"
  },
  "language_info": {
   "codemirror_mode": {
    "name": "ipython",
    "version": 2
   },
   "file_extension": ".py",
   "mimetype": "text/x-python",
   "name": "python",
   "nbconvert_exporter": "python",
   "pygments_lexer": "ipython2",
   "version": "2.7.6"
  }
 },
 "nbformat": 4,
 "nbformat_minor": 0
}

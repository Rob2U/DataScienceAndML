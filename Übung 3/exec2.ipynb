{
 "cells": [
  {
   "cell_type": "code",
   "execution_count": 77,
   "metadata": {
    "collapsed": true
   },
   "outputs": [],
   "source": [
    "import numpy as np\n",
    "import matplotlib.pyplot as plt\n",
    "import matplotlib as mpl\n",
    "import pandas as pd\n",
    "from pathlib import Path\n",
    "import nltk\n",
    "import math"
   ]
  },
  {
   "cell_type": "code",
   "execution_count": 78,
   "outputs": [],
   "source": [
    "song1 = Path('/Users/robert/Downloads/archive/Kollegah/Kollegah-universalgenie-lyrics.txt').read_text()\n",
    "song2 = Path('/Users/robert/Downloads/archive/Kollegah/Kollegah-schwarzer-benz-lyrics.txt').read_text()"
   ],
   "metadata": {
    "collapsed": false
   }
  },
  {
   "cell_type": "code",
   "execution_count": 79,
   "outputs": [],
   "source": [
    "song1 = nltk.word_tokenize(song1, language='german')\n",
    "song2 = nltk.word_tokenize(song2, language='german')"
   ],
   "metadata": {
    "collapsed": false
   }
  },
  {
   "cell_type": "code",
   "execution_count": 80,
   "outputs": [],
   "source": [
    "song1_vector = {}\n",
    "song2_vector = {}\n",
    "compl = {}\n",
    "\n",
    "for word in song1:\n",
    "    if word.lower() in song1_vector:\n",
    "        song1_vector[word.lower()] = song1_vector[word.lower()] + 1\n",
    "    else:\n",
    "        song1_vector.update({word.lower(): 1})\n",
    "    compl.update({word: True})\n",
    "\n",
    "for word in song2:\n",
    "    if word.lower() in song2_vector:\n",
    "        song2_vector[word.lower()] = song2_vector[word.lower()] + 1\n",
    "    else:\n",
    "        song2_vector.update({word.lower(): 1})\n",
    "    compl.update({word: True})"
   ],
   "metadata": {
    "collapsed": false
   }
  },
  {
   "cell_type": "code",
   "execution_count": 81,
   "outputs": [],
   "source": [
    "song1_vector_norm = song1_vector\n",
    "song2_vector_norm = song2_vector\n",
    "\n",
    "len_song1 = 0\n",
    "len_song2 = 0\n",
    "\n",
    "for x in song1_vector.values():\n",
    "    len_song1 += x*x\n",
    "len_song1 = math.sqrt(len_song1)\n",
    "\n",
    "for x in song2_vector.values():\n",
    "    len_song2 += x*x\n",
    "len_song2 = math.sqrt(len_song2)\n",
    "\n",
    "for x in song1_vector_norm.keys():\n",
    "    song1_vector[x] = float(song1_vector_norm[x])/len_song1\n",
    "\n",
    "for x in song2_vector_norm.keys():\n",
    "    song2_vector_norm[x] = float(song2_vector_norm[x])/len_song2\n"
   ],
   "metadata": {
    "collapsed": false
   }
  },
  {
   "cell_type": "code",
   "execution_count": 82,
   "outputs": [],
   "source": [
    "dot_p = 0\n",
    "\n",
    "for word in compl:\n",
    "    if word in song2_vector_norm and word in song1_vector_norm:\n",
    "        dot_p += song1_vector_norm[word] * song2_vector_norm[word]"
   ],
   "metadata": {
    "collapsed": false
   }
  },
  {
   "cell_type": "code",
   "execution_count": 83,
   "outputs": [
    {
     "data": {
      "text/plain": "0.6524011760405538"
     },
     "execution_count": 83,
     "metadata": {},
     "output_type": "execute_result"
    }
   ],
   "source": [
    "dot_p"
   ],
   "metadata": {
    "collapsed": false
   }
  },
  {
   "cell_type": "markdown",
   "source": [
    "## b)"
   ],
   "metadata": {
    "collapsed": false
   }
  },
  {
   "cell_type": "code",
   "execution_count": 84,
   "outputs": [],
   "source": [
    "song1 = Path('/Users/robert/Downloads/archive/Kollegah/Kollegah-universalgenie-lyrics.txt').read_text()\n",
    "song2 = Path('/Users/robert/Downloads/archive/Kollegah/Kollegah-schwarzer-benz-lyrics.txt').read_text()\n",
    "song1 = nltk.word_tokenize(song1, language='german')\n",
    "song2 = nltk.word_tokenize(song2, language='german')"
   ],
   "metadata": {
    "collapsed": false
   }
  },
  {
   "cell_type": "code",
   "execution_count": 85,
   "outputs": [],
   "source": [
    "song1_vector = {}\n",
    "song2_vector = {}\n",
    "compl = {}\n",
    "\n",
    "for word in song1:\n",
    "    if word.lower() in song1_vector:\n",
    "        song1_vector[word.lower()] = song1_vector[word.lower()] + 1\n",
    "    else:\n",
    "        song1_vector.update({word.lower(): 1})\n",
    "    compl.update({word: True})\n",
    "\n",
    "for word in song2:\n",
    "    if word.lower() in song2_vector:\n",
    "        song2_vector[word.lower()] = song2_vector[word.lower()] + 1\n",
    "    else:\n",
    "        song2_vector.update({word.lower(): 1})\n",
    "    compl.update({word: True})"
   ],
   "metadata": {
    "collapsed": false
   }
  },
  {
   "cell_type": "code",
   "execution_count": 86,
   "outputs": [],
   "source": [
    "for word in song1_vector:\n",
    "    song1_vector[word] = (1 + math.log(song1_vector[word]))\n",
    "\n",
    "for word in song2_vector:\n",
    "    song2_vector[word] = (1 + math.log(song2_vector[word]))"
   ],
   "metadata": {
    "collapsed": false
   }
  },
  {
   "cell_type": "code",
   "execution_count": 87,
   "outputs": [],
   "source": [
    "song1_vector_norm = song1_vector\n",
    "song2_vector_norm = song2_vector\n",
    "\n",
    "len_song1 = 0\n",
    "len_song2 = 0\n",
    "\n",
    "for x in song1_vector.values():\n",
    "    len_song1 += x*x\n",
    "len_song1 = math.sqrt(len_song1)\n",
    "\n",
    "for x in song2_vector.values():\n",
    "    len_song2 += x*x\n",
    "len_song2 = math.sqrt(len_song2)\n",
    "\n",
    "for x in song1_vector_norm.keys():\n",
    "    song1_vector[x] = float(song1_vector_norm[x])/len_song1\n",
    "\n",
    "for x in song2_vector_norm.keys():\n",
    "    song2_vector_norm[x] = float(song2_vector_norm[x])/len_song2\n"
   ],
   "metadata": {
    "collapsed": false
   }
  },
  {
   "cell_type": "code",
   "execution_count": 88,
   "outputs": [
    {
     "data": {
      "text/plain": "0.31854638397435703"
     },
     "execution_count": 88,
     "metadata": {},
     "output_type": "execute_result"
    }
   ],
   "source": [
    "dot_p = 0\n",
    "\n",
    "for word in compl:\n",
    "    if word in song2_vector_norm and word in song1_vector_norm:\n",
    "        dot_p += song1_vector_norm[word] * song2_vector_norm[word]\n",
    "dot_p"
   ],
   "metadata": {
    "collapsed": false
   }
  },
  {
   "cell_type": "code",
   "execution_count": null,
   "outputs": [],
   "source": [],
   "metadata": {
    "collapsed": false,
    "pycharm": {
     "is_executing": true
    }
   }
  },
  {
   "cell_type": "code",
   "execution_count": 88,
   "outputs": [],
   "source": [],
   "metadata": {
    "collapsed": false
   }
  }
 ],
 "metadata": {
  "kernelspec": {
   "display_name": "Python 3",
   "language": "python",
   "name": "python3"
  },
  "language_info": {
   "codemirror_mode": {
    "name": "ipython",
    "version": 2
   },
   "file_extension": ".py",
   "mimetype": "text/x-python",
   "name": "python",
   "nbconvert_exporter": "python",
   "pygments_lexer": "ipython2",
   "version": "2.7.6"
  }
 },
 "nbformat": 4,
 "nbformat_minor": 0
}
